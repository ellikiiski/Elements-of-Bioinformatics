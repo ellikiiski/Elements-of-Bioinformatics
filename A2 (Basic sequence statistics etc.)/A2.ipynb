{
 "cells": [
  {
   "cell_type": "markdown",
   "metadata": {},
   "source": [
    "## LSI31008 Elements of Bioinformatics, Assignment:  Basic sequence statistics, the genetic code and transcription factor binding sites."
   ]
  },
  {
   "cell_type": "markdown",
   "metadata": {},
   "source": [
    "## Introduction to the assignment"
   ]
  },
  {
   "cell_type": "markdown",
   "metadata": {},
   "source": [
    "Here we will explore the (near) universal genetic code discussed at the lecture. We first load in yeast *S.cerevisiae* coding sequence downloaded from [SGD](https://downloads.yeastgenome.org/sequence/S288C_reference/orf_dna/). The idea is to evaluate various statistics from the genomic data and think about them in the light of the genetic code. For background reading please have a look of [\"JB Plotkin, G Kudla: Synonymous but not the same: the causes and consequences of codon bias\"](https://www.nature.com/articles/nrg2899) and [\"EV Koonin, AS Novozhilov: Origin and evolution of the genetic code: The universal enigma\"](https://iubmb.onlinelibrary.wiley.com/doi/abs/10.1002/iub.146)."
   ]
  },
  {
   "cell_type": "markdown",
   "metadata": {},
   "source": [
    "The Biopython package offers easy ways to read in FASTA-files and to handle sequences. To install it on the CSC Jupyter environment you need to run the following commands: (Note: you might need to run this separately and then restart this notebook to ensure that the package is available to your session)"
   ]
  },
  {
   "cell_type": "code",
   "execution_count": 80,
   "metadata": {},
   "outputs": [
    {
     "name": "stdout",
     "output_type": "stream",
     "text": [
      "Requirement already satisfied: biopython in /home/elli/.local/lib/python3.11/site-packages (1.84)\n",
      "Requirement already satisfied: numpy in /home/elli/anaconda3/lib/python3.11/site-packages (from biopython) (1.24.3)\n"
     ]
    }
   ],
   "source": [
    "import sys\n",
    "!{sys.executable} -m pip install --user biopython"
   ]
  },
  {
   "cell_type": "markdown",
   "metadata": {},
   "source": [
    "After Biopython installs, you need to restart the Jupyter kernel by selecting `Kernel -> Restart Kernel...` in the user interface at the top of the page (or clicking on the circular arrow button)."
   ]
  },
  {
   "cell_type": "markdown",
   "metadata": {},
   "source": [
    "### Library imports"
   ]
  },
  {
   "cell_type": "markdown",
   "metadata": {},
   "source": [
    "Import pyplot for figure generation:"
   ]
  },
  {
   "cell_type": "code",
   "execution_count": 81,
   "metadata": {},
   "outputs": [],
   "source": [
    "from matplotlib import pyplot as plt"
   ]
  },
  {
   "cell_type": "markdown",
   "metadata": {},
   "source": [
    "Import also Counter and OrderedDict, for subsequent usage:"
   ]
  },
  {
   "cell_type": "code",
   "execution_count": 82,
   "metadata": {},
   "outputs": [],
   "source": [
    "from collections import Counter, OrderedDict"
   ]
  },
  {
   "cell_type": "markdown",
   "metadata": {},
   "source": [
    "Import Biopython SeqIO for reading FASTA-files (if the import fails, restart the kernel as indicated in the previous section).\n",
    "\n",
    "Please see the following links for information on using Biopython sequence tools:\n",
    "\n",
    "https://biopython.org/wiki/SeqIO\n",
    "\n",
    "https://biopython.org/wiki/SeqRecord\n",
    "\n",
    "https://biopython.org/wiki/Seq"
   ]
  },
  {
   "cell_type": "code",
   "execution_count": 83,
   "metadata": {},
   "outputs": [],
   "source": [
    "from Bio import SeqIO"
   ]
  },
  {
   "cell_type": "markdown",
   "metadata": {},
   "source": [
    "### Data reading and primary exploration"
   ]
  },
  {
   "cell_type": "markdown",
   "metadata": {},
   "source": [
    "The yeast coding sequence data we will be using in this exercise is provided in FASTA format that contains many short sequences, each identified by an ID and some supplementary information -- chromosome number, genomic position, etc.\n",
    "\n",
    "We read in the sequence data file into a dictionary of SeqRecord objects:"
   ]
  },
  {
   "cell_type": "code",
   "execution_count": 84,
   "metadata": {},
   "outputs": [],
   "source": [
    "input_file = 'data/orf_coding.fasta'\n",
    "records = SeqIO.to_dict(SeqIO.parse(input_file, \"fasta\"))"
   ]
  },
  {
   "cell_type": "markdown",
   "metadata": {},
   "source": [
    "See that we have 5917 keys (IDs):"
   ]
  },
  {
   "cell_type": "code",
   "execution_count": 85,
   "metadata": {},
   "outputs": [
    {
     "data": {
      "text/plain": [
       "5917"
      ]
     },
     "execution_count": 85,
     "metadata": {},
     "output_type": "execute_result"
    }
   ],
   "source": [
    "ids = list(records.keys())\n",
    "len(ids)"
   ]
  },
  {
   "cell_type": "markdown",
   "metadata": {},
   "source": [
    "A single record in the dictionary contains all kinds of data. Let's see what the data represented by the **first** ID contains:"
   ]
  },
  {
   "cell_type": "code",
   "execution_count": 86,
   "metadata": {},
   "outputs": [
    {
     "data": {
      "text/plain": [
       "SeqRecord(seq=Seq('ATGGTACTGACGATTTATCCTGACGAACTCGTACAAATAGTGTCTGATAAAATT...TAA'), id='YAL001C', name='YAL001C', description='YAL001C TFC3 SGDID:S000000001, Chr I from 151006-147594,151166-151097, Genome Release 64-2-1, reverse complement, intron sequence removed, Verified ORF, \"Subunit of RNA polymerase III transcription initiation factor complex; part of the TauB domain of TFIIIC that binds DNA at the BoxB promoter sites of tRNA and similar genes; cooperates with Tfc6p in DNA binding; largest of six subunits of the RNA polymerase III transcription initiation factor complex (TFIIIC)\"', dbxrefs=[])"
      ]
     },
     "execution_count": 86,
     "metadata": {},
     "output_type": "execute_result"
    }
   ],
   "source": [
    "records[ids[0]]"
   ]
  },
  {
   "cell_type": "markdown",
   "metadata": {},
   "source": [
    "To get the nucleotide sequence out use `.seq`"
   ]
  },
  {
   "cell_type": "code",
   "execution_count": 87,
   "metadata": {},
   "outputs": [
    {
     "data": {
      "text/plain": [
       "Seq('ATGGTACTGACGATTTATCCTGACGAACTCGTACAAATAGTGTCTGATAAAATT...TAA')"
      ]
     },
     "execution_count": 87,
     "metadata": {},
     "output_type": "execute_result"
    }
   ],
   "source": [
    "sequence = (records[ids[0]]).seq\n",
    "sequence"
   ]
  },
  {
   "cell_type": "markdown",
   "metadata": {},
   "source": [
    "It may be more convenient to cast the variable type in to a string (str):"
   ]
  },
  {
   "cell_type": "code",
   "execution_count": 88,
   "metadata": {},
   "outputs": [
    {
     "data": {
      "text/plain": [
       "'ATGGTACTGACGATTTATCCTGACGAACTCGTACAAATAGTGTCTGATAAAATTGCTTCAAATAAGGGAAAAATCACTTTGAATCAGCTGTGGGATATATCTGGTAAATATTTTGATTTGTCTGATAAAAAAGTTAAACAGTTCGTGCTTTCATGCGTGATATTGAAAAAGGACATTGAGGTGTATTGTGATGGTGCTATAACAACTAAAAATGTGACTGATATTATAGGCGACGCTAATCATTCATACTCGGTTGGGATTACTGAGGACAGCCTATGGACATTATTAACGGGATACACAAAAAAGGAGTCAACTATTGGAAATTCTGCATTTGAACTACTTCTCGAAGTTGCCAAATCAGGAGAAAAAGGGATCAATACTATGGATTTGGCGCAGGTAACTGGGCAAGATCCTAGAAGTGTGACTGGACGTATCAAGAAAATAAACCACCTGTTAACAAGTTCACAACTGATTTATAAGGGACACGTCGTGAAGCAATTGAAGCTAAAAAAATTCAGCCATGACGGGGTGGATAGTAATCCCTATATTAATATTAGGGATCATTTAGCAACAATAGTTGAGGTGGTAAAACGATCAAAAAATGGTATTCGCCAGATAATTGATTTAAAGCGTGAATTGAAATTTGACAAAGAGAAAAGACTTTCTAAAGCTTTTATTGCAGCTATTGCATGGTTAGATGAAAAGGAGTACTTAAAGAAAGTGCTTGTAGTATCACCCAAGAATCCTGCCATTAAAATCAGATGTGTAAAATACGTGAAAGATATTCCAGACTCTAAAGGCTCGCCTTCATTTGAGTATGATAGCAATAGCGCGGATGAAGATTCTGTATCAGATAGCAAGGCAGCTTTCGAAGATGAAGACTTAGTCGAAGGTTTAGATAATTTCAATGCGACTGATTTATTACAAAATCAAGGCCTTGTTATGGAAGAGAAAGAGGATGCTGTAAAGAATGAAGTTCTTCTTAATCGATTTTATCCACTTCAAAATCAGACTTATGACATTGCAGATAAGTCTGGCCTTAAAGGAATTTCAACTATGGATGTTGTAAATCGAATTACCGGAAAAGAATTTCAGCGAGCTTTTACCAAATCAAGCGAATATTATTTAGAAAGTGTGGATAAGCAAAAAGAAAATACAGGGGGGTATAGGCTTTTTCGCATATACGATTTTGAGGGAAAGAAGAAGTTTTTTAGGCTGTTCACAGCTCAGAACTTTCAAAAGTTAACAAATGCGGAAGACGAAATATCCGTTCCAAAAGGGTTTGATGAGCTAGGCAAATCTCGTACCGATTTGAAAACTCTCAACGAGGATAATTTCGTCGCACTCAACAACACTGTTAGATTTACAACGGACAGCGATGGACAGGATATATTCTTCTGGCACGGTGAATTAAAAATTCCCCCAAACTCAAAAAAAACTCCGAATAAAAACAAACGGAAGAGGCAGGTTAAAAACAGTACTAATGCTTCTGTTGCAGGAAACATTTCGAATCCCAAAAGGATTAAGCTAGAGCAGCATGTCAGCACTGCACAGGAGCCGAAATCTGCTGAAGATAGTCCAAGTTCAAACGGAGGCACTGTTGTCAAAGGCAAGGTGGTTAACTTCGGCGGCTTTTCTGCCCGCTCTTTGCGTTCACTACAGAGACAGAGAGCCATTTTGAAAGTTATGAATACGATTGGTGGGGTAGCATACCTGAGAGAACAATTTTACGAAAGCGTTTCTAAATATATGGGCTCCACAACGACATTAGATAAAAAGACTGTCCGTGGTGATGTTGATTTGATGGTAGAAAGCGAAAAATTAGGAGCCAGAACAGAGCCTGTATCAGGAAGAAAAATTATTTTTTTGCCCACTGTTGGAGAGGACGCTATCCAAAGGTACATCCTGAAAGAAAAAGATAGTAAAAAAGCAACCTTTACTGATGTTATACATGATACGGAAATATACTTCTTTGACCAAACGGAAAAAAATAGGTTTCACAGAGGAAAGAAATCAGTTGAAAGAATTCGTAAGTTTCAGAACCGCCAAAAGAATGCTAAGATCAAAGCTTCAGATGACGCTATCTCTAAGAAGAGTACGTCGGTCAACGTATCAGATGGAAAGATCAAAAGGAGAGACAAAAAAGTGTCTGCTGGTAGGACAACGGTGGTCGTGGAAAATACTAAAGAAGACAAAACTGTCTATCATGCAGGCACTAAAGATGGTGTTCAGGCTTTAATCAGAGCTGTTGTAGTTACTAAAAGTATTAAAAATGAAATAATGTGGGACAAAATAACAAAATTATTTCCTAATAATTCTTTAGATAACCTAAAAAAGAAATGGACGGCACGGCGAGTAAGAATGGGTCATAGTGGTTGGAGGGCATATGTCGATAAGTGGAAAAAAATGCTCGTTCTAGCCATTAAAAGTGAAAAGATTTCACTGAGGGATGTTGAAGAACTAGATCTTATCAAATTGCTTGATATTTGGACCTCTTTTGATGAAAAGGAAATAAAAAGGCCGCTCTTTCTTTATAAGAACTACGAAGAGAATAGAAAAAAATTTACTCTGGTACGTGATGACACACTTACACATTCTGGCAACGATCTGGCCATGTCTTCTATGATTCAAAGAGAGATCTCTTCTTTAAAAAAAACTTACACTAGAAAGATTTCCGCTTCTACTAAGGACTTATCGAAGAGTCAAAGCGACGATTATATTCGCACAGTGATCCGGTCCATATTAATAGAAAGTCCTTCGACCACTAGAAATGAAATAGAGGCGTTGAAGAACGTTGGAAACGAATCAATAGATAACGTCATCATGGATATGGCTAAGGAAAAGCAAATTTATCTCCATGGCTCAAAACTTGAATGTACTGATACTTTACCAGACATTTTGGAAAATAGAGGAAATTATAAAGATTTTGGTGTAGCTTTTCAGTATAGATGTAAGGTTAATGAATTATTGGAGGCCGGAAACGCTATTGTTATCAATCAAGAGCCGTCCGATATATCCTCTTGGGTTTTAATTGATTTGATTTCGGGAGAGCTATTGAATATGGATGTAATTCCAATGGTGAGAAATGTTCGACCTTTAACGTATACTTCAAGGAGATTTGAAATACGAACATTAACTCCCCCTCTGATTATATATGCCAATTCTCAGACAAAATTGAATACAGCAAGGAAGTCTGCTGTCAAAGTTCCACTGGGCAAACCATTTTCTCGTTTATGGGTGAATGGATCTGGTTCCATTAGGCCAAACATATGGAAGCAGGTAGTTACTATGGTCGTTAACGAAATAATATTTCATCCAGGGATAACATTGAGTAGATTGCAATCTAGGTGTCGTGAAGTACTTTCGCTTCATGAAATATCAGAAATATGCAAATGGCTCCTAGAAAGACAAGTATTAATAACTACTGATTTTGATGGCTATTGGGTCAATCATAATTGGTATTCTATATATGAATCTACATAA'"
      ]
     },
     "execution_count": 88,
     "metadata": {},
     "output_type": "execute_result"
    }
   ],
   "source": [
    "str(sequence)"
   ]
  },
  {
   "cell_type": "markdown",
   "metadata": {},
   "source": [
    "Or `.translate()` for amino acid sequence:"
   ]
  },
  {
   "cell_type": "code",
   "execution_count": 89,
   "metadata": {},
   "outputs": [
    {
     "data": {
      "text/plain": [
       "'MVLTIYPDELVQIVSDKIASNKGKITLNQLWDISGKYFDLSDKKVKQFVLSCVILKKDIEVYCDGAITTKNVTDIIGDANHSYSVGITEDSLWTLLTGYTKKESTIGNSAFELLLEVAKSGEKGINTMDLAQVTGQDPRSVTGRIKKINHLLTSSQLIYKGHVVKQLKLKKFSHDGVDSNPYINIRDHLATIVEVVKRSKNGIRQIIDLKRELKFDKEKRLSKAFIAAIAWLDEKEYLKKVLVVSPKNPAIKIRCVKYVKDIPDSKGSPSFEYDSNSADEDSVSDSKAAFEDEDLVEGLDNFNATDLLQNQGLVMEEKEDAVKNEVLLNRFYPLQNQTYDIADKSGLKGISTMDVVNRITGKEFQRAFTKSSEYYLESVDKQKENTGGYRLFRIYDFEGKKKFFRLFTAQNFQKLTNAEDEISVPKGFDELGKSRTDLKTLNEDNFVALNNTVRFTTDSDGQDIFFWHGELKIPPNSKKTPNKNKRKRQVKNSTNASVAGNISNPKRIKLEQHVSTAQEPKSAEDSPSSNGGTVVKGKVVNFGGFSARSLRSLQRQRAILKVMNTIGGVAYLREQFYESVSKYMGSTTTLDKKTVRGDVDLMVESEKLGARTEPVSGRKIIFLPTVGEDAIQRYILKEKDSKKATFTDVIHDTEIYFFDQTEKNRFHRGKKSVERIRKFQNRQKNAKIKASDDAISKKSTSVNVSDGKIKRRDKKVSAGRTTVVVENTKEDKTVYHAGTKDGVQALIRAVVVTKSIKNEIMWDKITKLFPNNSLDNLKKKWTARRVRMGHSGWRAYVDKWKKMLVLAIKSEKISLRDVEELDLIKLLDIWTSFDEKEIKRPLFLYKNYEENRKKFTLVRDDTLTHSGNDLAMSSMIQREISSLKKTYTRKISASTKDLSKSQSDDYIRTVIRSILIESPSTTRNEIEALKNVGNESIDNVIMDMAKEKQIYLHGSKLECTDTLPDILENRGNYKDFGVAFQYRCKVNELLEAGNAIVINQEPSDISSWVLIDLISGELLNMDVIPMVRNVRPLTYTSRRFEIRTLTPPLIIYANSQTKLNTARKSAVKVPLGKPFSRLWVNGSGSIRPNIWKQVVTMVVNEIIFHPGITLSRLQSRCREVLSLHEISEICKWLLERQVLITTDFDGYWVNHNWYSIYEST*'"
      ]
     },
     "execution_count": 89,
     "metadata": {},
     "output_type": "execute_result"
    }
   ],
   "source": [
    "str(sequence.translate())"
   ]
  },
  {
   "cell_type": "markdown",
   "metadata": {},
   "source": [
    "##  Problem 1a\n",
    "Evaluate what is the fraction of nucleotides 'A', 'C', 'G' and 'T' in the coding sequence of *S.cer*. You can use the [Counter](https://docs.python.org/3/library/collections.html#collections.Counter) from the code below to get the number of occurrences of every nucleotide (remember to compute the fractions)."
   ]
  },
  {
   "cell_type": "code",
   "execution_count": 90,
   "metadata": {},
   "outputs": [
    {
     "name": "stdout",
     "output_type": "stream",
     "text": [
      "A : 1238\n",
      "T : 952\n",
      "G : 744\n",
      "C : 549\n"
     ]
    }
   ],
   "source": [
    "# Example with the first sequence in the sequence data\n",
    "sequence = str(records[ids[0]].seq)\n",
    "for nucleotide, count in Counter(sequence).items():\n",
    "    print(nucleotide, \":\", count)"
   ]
  },
  {
   "cell_type": "markdown",
   "metadata": {},
   "source": [
    "Alternatively, you can use the [OrderedDict](https://docs.python.org/3/library/collections.html#collections.OrderedDict), together with the `.most_common()` method to sort the elements of a `Counter` object:"
   ]
  },
  {
   "cell_type": "code",
   "execution_count": 91,
   "metadata": {},
   "outputs": [
    {
     "data": {
      "text/plain": [
       "OrderedDict([('A', 1238), ('T', 952), ('G', 744), ('C', 549)])"
      ]
     },
     "execution_count": 91,
     "metadata": {},
     "output_type": "execute_result"
    }
   ],
   "source": [
    "# By default, OrderedDict sorts a dictionary in a descending order.\n",
    "OrderedDict(Counter(sequence).most_common())"
   ]
  },
  {
   "cell_type": "markdown",
   "metadata": {},
   "source": [
    "**Hint:** remember that each of the 5917 sequences in the data are part of the full coding sequence! It may be useful to combine the entire coding sequence into one long string."
   ]
  },
  {
   "cell_type": "code",
   "execution_count": 92,
   "metadata": {},
   "outputs": [
    {
     "name": "stdout",
     "output_type": "stream",
     "text": [
      "A : 2883611\n",
      "T : 2426618\n",
      "G : 1795281\n",
      "C : 1683047\n"
     ]
    }
   ],
   "source": [
    "whole_sequence = ''.join([str(records[ids[i]].seq) for i in range(len(records.keys()))])\n",
    "for nuc, count in Counter(whole_sequence).items():\n",
    "    print(nuc, \":\", count)\n"
   ]
  },
  {
   "cell_type": "markdown",
   "metadata": {},
   "source": [
    "##  Problem 1b\n",
    "Translate the coding sequences to protein sequence. Make a barchart showing the numbers of each amino-acid and stop codon, order by prevalence.\n",
    "\n",
    "**Hint:** Adapt the code in 1a, but for amino-acids instead of nucleotides, and then make the barchart."
   ]
  },
  {
   "cell_type": "code",
   "execution_count": 93,
   "metadata": {},
   "outputs": [
    {
     "data": {
      "image/png": "[encoded data removed]",
      "text/plain": [
       "<Figure size 640x480 with 1 Axes>"
      ]
     },
     "metadata": {},
     "output_type": "display_data"
    }
   ],
   "source": [
    "trans_sequence = ''.join([str(records[ids[i]].seq.translate()) for i in range(len(records.keys()))])\n",
    "\n",
    "amino_count = list()\n",
    "for nuc, count in Counter(trans_sequence).items():\n",
    "    amino_count.append((nuc, count))\n",
    "    \n",
    "amino_count.sort(key=lambda x: x[1], reverse=True)\n",
    "plt.bar([amino for (amino, count) in amino_count], [count for (amino, count) in amino_count])\n",
    "plt.show()\n"
   ]
  },
  {
   "cell_type": "markdown",
   "metadata": {},
   "source": [
    "##  Problem 1c\n",
    "Pick out the most frequent amino acid from the figure you made in 1b and plot the frequencies of the corresponding nucleotide triplets (codons) in the full coding sequence. \n",
    "\n",
    "Use the `triplet_to_aminoacid` dictionary below or this [infographic](https://i0.wp.com/www.compoundchem.com/wp-content/uploads/2014/09/20-Common-Amino-Acids-v3.png?ssl=1) to determine which nucleotide triplets code for the selected amino acid.\n",
    "\n",
    "**Hint:** Use the `extract_triplets` function to get the number of occurences of each non-overlapping triplet in the sequence."
   ]
  },
  {
   "cell_type": "code",
   "execution_count": 94,
   "metadata": {},
   "outputs": [],
   "source": [
    "# The following function reads a string by triplets, counts the occurrence of each triplet and returns a dictionary\n",
    "def extract_triplets(s):\n",
    "    size = len(s)//3\n",
    "    out = {}\n",
    "    for i in range(size):\n",
    "        start = i*3\n",
    "        end = start + 3\n",
    "        triplet = s[start:end]\n",
    "        if triplet in out:\n",
    "            out[triplet] += 1\n",
    "        else:\n",
    "            out[triplet] = 1\n",
    "    return out\n",
    "\n",
    "\n",
    "triplet_to_aminoacid = {'AAA' : 'K', 'AAC' : 'N', 'AAG' : 'K', 'AAT' : 'N',\n",
    "                        'ACA' : 'T', 'ACC' : 'T', 'ACG' : 'T', 'ACT' : 'T',\n",
    "                        'AGA' : 'R', 'AGC' : 'S', 'AGG' : 'R', 'AGT' : 'S',\n",
    "                        'ATA' : 'I', 'ATC' : 'I', 'ATG' : 'M', 'ATT' : 'I',\n",
    "                        'CAA' : 'Q', 'CAC' : 'H', 'CAG' : 'Q', 'CAT' : 'H',\n",
    "                        'CCA' : 'P', 'CCC' : 'P', 'CCG' : 'P', 'CCT' : 'P',\n",
    "                        'CGA' : 'R', 'CGC' : 'R', 'CGG' : 'R', 'CGT' : 'R',\n",
    "                        'CTA' : 'L', 'CTC' : 'L', 'CTG' : 'L', 'CTT' : 'L',\n",
    "                        'GAA' : 'E', 'GAC' : 'D', 'GAG' : 'E', 'GAT' : 'D',\n",
    "                        'GCA' : 'A', 'GCC' : 'A', 'GCG' : 'A', 'GCT' : 'A',\n",
    "                        'GGA' : 'G', 'GGC' : 'G', 'GGG' : 'G', 'GGT' : 'G',\n",
    "                        'GTA' : 'V', 'GTC' : 'V', 'GTG' : 'V', 'GTT' : 'V',\n",
    "                        'TAA' : '*', 'TAC' : 'Y', 'TAG' : '*', 'TAT' : 'Y',\n",
    "                        'TCA' : 'S', 'TCC' : 'S', 'TCG' : 'S', 'TCT' : 'S',\n",
    "                        'TGA' : '*', 'TGC' : 'C', 'TGG' : 'W', 'TGT' : 'C',\n",
    "                        'TTA' : 'L', 'TTC' : 'F', 'TTG' : 'L', 'TTT' : 'F'}"
   ]
  },
  {
   "cell_type": "code",
   "execution_count": 95,
   "metadata": {},
   "outputs": [
    {
     "name": "stdout",
     "output_type": "stream",
     "text": [
      "Most frequent amino acid is L with prevalence of 277866.\n",
      "It is coded by the following triplets.\n",
      "CTG (31106 times)\n",
      "CTC (16142 times)\n",
      "TTG (77414 times)\n",
      "CTT (35882 times)\n",
      "CTA (39538 times)\n",
      "TTA (77784 times)\n"
     ]
    },
    {
     "data": {
      "image/png": "[encoded data removed]",
      "text/plain": [
       "<Figure size 640x480 with 1 Axes>"
      ]
     },
     "metadata": {},
     "output_type": "display_data"
    }
   ],
   "source": [
    "most_freq = amino_count[0][0]\n",
    "prev = amino_count[0][1]\n",
    "print(f'Most frequent amino acid is {most_freq} with prevalence of {prev}.')\n",
    "\n",
    "print(f'It is coded by the following triplets.')\n",
    "all_triplets = extract_triplets(whole_sequence)\n",
    "triplets = list()\n",
    "for tri, count in Counter(all_triplets).items():\n",
    "    if triplet_to_aminoacid[tri] == most_freq:\n",
    "        print(f'{tri} ({count} times)')\n",
    "        triplets.append((tri, count))\n",
    "\n",
    "triplets.sort(key=lambda x: x[1], reverse=True)\n",
    "plt.bar([triplet for (triplet, count) in triplets], [count for (triplet, count) in triplets])\n",
    "plt.show()\n",
    "\n",
    "\n"
   ]
  },
  {
   "cell_type": "markdown",
   "metadata": {},
   "source": [
    "##  Problem 1d\n",
    "\n",
    "Looking at the codon frequencies for randomly selected genes in the Figure 1 of [\"JB Plotkin, G Kudla: Synonymous but not the same: the causes and consequences of codon bias\"](https://www.nature.com/articles/nrg2899) for yeast (*S. cerevisiae*), select some codons that show a clear bias. Then, like in problem 1C, investigate the triplet barcharts of the amino-acid that is coded by your chosen codons. Can you see the same bias in the codon frequencies that code that amino-acid at the whole genome level of yeast?"
   ]
  },
  {
   "cell_type": "code",
   "execution_count": 96,
   "metadata": {},
   "outputs": [
    {
     "name": "stdout",
     "output_type": "stream",
     "text": [
      "Amino acid R\n",
      "AGA: 47.56% (RSCU 2.85)\n",
      "CGT: 14.12% (RSCU 0.85)\n",
      "AGG: 21.31% (RSCU 1.28)\n",
      "CGA: 6.99% (RSCU 0.42)\n",
      "CGC: 5.92% (RSCU 0.36)\n",
      "CGG: 4.10% (RSCU 0.25)\n"
     ]
    },
    {
     "data": {
      "image/png": "[encoded data removed]",
      "text/plain": [
       "<Figure size 640x480 with 1 Axes>"
      ]
     },
     "metadata": {},
     "output_type": "display_data"
    },
    {
     "name": "stdout",
     "output_type": "stream",
     "text": [
      "Amino acid L\n",
      "CTG: 11.19% (RSCU 0.67)\n",
      "CTC: 5.81% (RSCU 0.35)\n",
      "TTG: 27.86% (RSCU 1.67)\n",
      "CTT: 12.91% (RSCU 0.77)\n",
      "CTA: 14.23% (RSCU 0.85)\n",
      "TTA: 27.99% (RSCU 1.68)\n"
     ]
    },
    {
     "data": {
      "image/png": "[encoded data removed]",
      "text/plain": [
       "<Figure size 640x480 with 1 Axes>"
      ]
     },
     "metadata": {},
     "output_type": "display_data"
    },
    {
     "name": "stdout",
     "output_type": "stream",
     "text": [
      "Amino acid E\n",
      "GAA: 70.11% (RSCU 1.40)\n",
      "GAG: 29.89% (RSCU 0.60)\n"
     ]
    },
    {
     "data": {
      "image/png": "[encoded data removed]",
      "text/plain": [
       "<Figure size 640x480 with 1 Axes>"
      ]
     },
     "metadata": {},
     "output_type": "display_data"
    },
    {
     "name": "stdout",
     "output_type": "stream",
     "text": [
      "Amino acid P\n",
      "CCT: 31.10% (RSCU 1.24)\n",
      "CCC: 15.78% (RSCU 0.63)\n",
      "CCA: 40.75% (RSCU 1.63)\n",
      "CCG: 12.38% (RSCU 0.50)\n"
     ]
    },
    {
     "data": {
      "image/png": "[encoded data removed]",
      "text/plain": [
       "<Figure size 640x480 with 1 Axes>"
      ]
     },
     "metadata": {},
     "output_type": "display_data"
    }
   ],
   "source": [
    "biased = ['AGA', 'CTC', 'GAG', 'CCG'] # U replaced by T\n",
    "b_aminos = {triplet_to_aminoacid[b]: list() for b in biased}\n",
    "\n",
    "amino_triplet_dict = dict()\n",
    "for tri, count in Counter(all_triplets).items():\n",
    "    amino = triplet_to_aminoacid[tri]\n",
    "    if amino not in amino_triplet_dict:\n",
    "        amino_triplet_dict[amino] = list()\n",
    "    amino_triplet_dict[amino].append((tri, count))\n",
    "\n",
    "for ba in b_aminos:\n",
    "    print(f'Amino acid {ba}')\n",
    "\n",
    "    triplets = amino_triplet_dict[ba]\n",
    "    total = sum([count for (tri, count) in triplets])\n",
    "    exp_freq = total / len(triplets)\n",
    "\n",
    "    for (tri, count) in triplets:\n",
    "        rscu = count/exp_freq\n",
    "        print(f'{tri}: {count/total*100:.2f}% (RSCU {rscu:.2f})')\n",
    "    \n",
    "    triplets.sort(key=lambda x: x[1], reverse=True)\n",
    "    plt.bar([t for t, c in triplets], [c for t, c in triplets])\n",
    "    plt.show()"
   ]
  },
  {
   "cell_type": "markdown",
   "metadata": {},
   "source": [
    "## The bias in the sequence\n",
    "\n",
    "The figure showed brighter than average red in AGA and darker than average in CUC, GAG and CCG. The amino acids corresponding the triplets were R, L, E, and P, repectively.\n",
    "\n",
    "Calculating the percentages and RSCU values for all the triplets coding those amino acids, as well as plotting the frequencies in a bar plot, we find that there seems to be some bias among all of them. The most blatant example seems to be AGA with RSCU value 2.85, occurring over almost three times as often as it should."
   ]
  },
  {
   "cell_type": "markdown",
   "metadata": {},
   "source": [
    "##  Problem 2: Binding energy statistics in the yeast genome (intergenic regions) "
   ]
  },
  {
   "cell_type": "markdown",
   "metadata": {},
   "source": [
    "Here we analyse signatures of selection from genomic data using transcription factor binding sites as an example. See e.g. [\"Kinney JB, Tkacik G, Callan CG (2007) Precise physical models of protein-DNA interaction from high-throughput data. Proc Natl Acad Sci USA 104(2):501–506\"](http://www.pnas.org/content/104/2/501.short) and [\"Mustonen V, Kinney J, Callan CG, Lässig M (2008) Energy-dependent fitness: a quantitative model for the evolution of yeast transcription factor binding sites. Proc Natl Acad Sci USA 105(34):12376–12381\"](http://www.pnas.org/content/105/34/12376.short). \n",
    "\n",
    "Directory `data/` contains a file `alignment.txt.NaN.removed` where intergenic sequences for four yeast species (*S.cer, S.par, S.mik, S.bay*) are given. Note we have removed insertions and deletions from the alignment so that analyses which in this assignment focus on a single species aspects are a bit simpler."
   ]
  },
  {
   "cell_type": "code",
   "execution_count": 97,
   "metadata": {},
   "outputs": [],
   "source": [
    "from setup import *\n",
    "%matplotlib inline"
   ]
  },
  {
   "cell_type": "code",
   "execution_count": 98,
   "metadata": {},
   "outputs": [],
   "source": [
    "# Import data to a dataframe\n",
    "datafile = \"data/alignment.txt.NaN.removed\";\n",
    "seq_igs = pd.read_csv(datafile, sep=\"\\s+\");\n",
    "tfBindingFile = \"data/Emat.abf1.kinney\";\n",
    "# Imports an energy matrix modelling transcription factor to DNA binding for factor Abf1\n",
    "# The dimensions are 4 x 20, correspoding to the four nucleotides A, C, G, T and the binding sites motif length 20\n",
    "Emat = np.array(pd.read_csv(tfBindingFile, header=None, sep=\"\\s+\"))"
   ]
  },
  {
   "cell_type": "code",
   "execution_count": 99,
   "metadata": {},
   "outputs": [],
   "source": [
    "def getEnergy(seq, Emat):\n",
    "    s1 = list(seq.replace('A', '0').replace('C', '1').replace('G', '2').replace('T', '3').replace('N', '4'))\n",
    "    Lmat = Emat.shape[1]\n",
    "    Lseq = len(s1)\n",
    "    Ev = []\n",
    "    for i in range(0, Lseq-Lmat+1):\n",
    "        E = 0.0;\n",
    "        k = 0;\n",
    "        flag = 0;\n",
    "        eps = 0.0;\n",
    "        for j in range(i, i+Lmat):\n",
    "            nuc = int(s1[j])\n",
    "            if nuc < 4:\n",
    "                eps = Emat[nuc, k];\n",
    "            else:\n",
    "                # Remove sequences with missing data\n",
    "                flag = 1;\n",
    "            E += eps\n",
    "            k += 1;\n",
    "        if flag == 0:    \n",
    "            Ev.append(E)\n",
    "    return Ev"
   ]
  },
  {
   "cell_type": "code",
   "execution_count": 100,
   "metadata": {},
   "outputs": [],
   "source": [
    "def randomise(seq):\n",
    "    s1 = list(seq.replace('A', '0').replace('C', '1').replace('G', '2').replace('T', '3').replace('N', '4'))\n",
    "    random.shuffle(s1)\n",
    "    return \"\".join(s1)"
   ]
  },
  {
   "cell_type": "markdown",
   "metadata": {},
   "source": [
    "#### Problem 2a: \n",
    "Visualise the binding energy matrix *Emat* with elements $\\epsilon_k(a)$ where $k$ denotes column (binding site position) and $a \\in{A,C,G,T}$ nucleotides. Use a heatmap for visualisation (e.g., [imshow](https://matplotlib.org/stable/api/_as_gen/matplotlib.pyplot.imshow.html)).\n",
    "\n",
    "What is the best possible binding sequence according to this model? \n",
    "\n",
    "**Hint:** Smaller energy values indicate better binding."
   ]
  },
  {
   "cell_type": "code",
   "execution_count": 101,
   "metadata": {},
   "outputs": [
    {
     "name": "stdout",
     "output_type": "stream",
     "text": [
      "The minimum energy sequence is AATGTCACTTTGTACGACGC\n"
     ]
    },
    {
     "data": {
      "image/png": "[encoded data removed]",
      "text/plain": [
       "<Figure size 1600x1000 with 1 Axes>"
      ]
     },
     "metadata": {},
     "output_type": "display_data"
    }
   ],
   "source": [
    "_, axes = plt.subplots(figsize = (16, 10))\n",
    "axes.imshow(Emat)\n",
    "axes.set_yticks([0, 1, 2, 3], ['A', 'C', 'G', 'T'])\n",
    "\n",
    "min_seq=[]\n",
    "for element in Emat.T:\n",
    "    min_seq.append(list(element).index(min(element)))\n",
    "\n",
    "translation = {0:'A', 1:'C', 2:'G', 3:'T'}\n",
    "for i in range(20):\n",
    "    min_seq[i] = translation[min_seq[i]]\n",
    "minimumenergysequence=''.join(min_seq)\n",
    "\n",
    "print(f'The minimum energy sequence is {minimumenergysequence}')\n",
    "    "
   ]
  },
  {
   "cell_type": "markdown",
   "metadata": {},
   "source": [
    "#### Problem 2b:\n",
    "\n",
    "Explain what the functions `getEnergy()` and `randomise()` do, and add some comments to the code to help a reader understand how they work."
   ]
  },
  {
   "cell_type": "code",
   "execution_count": 102,
   "metadata": {},
   "outputs": [],
   "source": [
    "# Using a defined energy matrix, the function getEnergy calculates the energy of subsequences of the given sequence\n",
    "\n",
    "def getEnergy(seq, Emat):\n",
    "    # convert the sequence into integer values according to base (4 = missing)\n",
    "    s1 = list(seq.replace('A', '0').replace('C', '1').replace('G', '2').replace('T', '3').replace('N', '4'))\n",
    "\n",
    "    Lmat = Emat.shape[1] # number of columns in the energy matrix\n",
    "    Lseq = len(s1) # length of given sequence\n",
    "    Ev = [] # initialize list to store energy values\n",
    "\n",
    "    # loop over all subsequences of length Lmat in the equence\n",
    "    for i in range(0, Lseq-Lmat+1):\n",
    "        # initialize values\n",
    "        E = 0.0 # energy\n",
    "        k = 0 # position\n",
    "        flag = 0 # indication of invalid nucleotides\n",
    "        eps = 0.0 # temporary energy variable\n",
    "\n",
    "        # loop over the subsequence (length Lmat) nucleotide by nucleotide\n",
    "        for j in range(i, i+Lmat):\n",
    "            nuc = int(s1[j]) # current nucleotide\n",
    "\n",
    "            if nuc < 4: # check that the nucleotide is not ivalid (4)\n",
    "                eps = Emat[nuc, k] # store the enrgy value\n",
    "            else:\n",
    "                # remove sequences with missing data\n",
    "                flag = 1\n",
    "\n",
    "            E += eps # add the temporary value to the energy value\n",
    "            k += 1 # move to next position\n",
    "\n",
    "        # add if the whole subsequence is valid\n",
    "        if flag == 0:    \n",
    "            Ev.append(E)\n",
    "            \n",
    "    return Ev\n",
    "\n",
    "\n",
    "# The randomise function initializes the sequence for energy calculating by numerizing the bases and then randomizes the order of them\n",
    "\n",
    "def randomise(seq):\n",
    "    # convert the sequence into integer values according to base (4 = missing)\n",
    "    s1 = list(seq.replace('A', '0').replace('C', '1').replace('G', '2').replace('T', '3').replace('N', '4'))\n",
    "    random.shuffle(s1) # the list is shuffled into a random order\n",
    "    return \"\".join(s1) # sequence is joined back together before returning"
   ]
  },
  {
   "cell_type": "markdown",
   "metadata": {},
   "source": [
    "#### Problem 2c: \n",
    "Now, run the cell below (takes ~1 minute) and put a comment on each line to explain what it does. Plot a histogram of EvAll (use logarithmic y-axis and increase the number of bins, e.g., to 100)."
   ]
  },
  {
   "cell_type": "code",
   "execution_count": 103,
   "metadata": {},
   "outputs": [],
   "source": [
    "Nigs = seq_igs.shape[0] # number of rows in seq_igs\n",
    "Eigs = [] # intialize empty list to store energy values\n",
    "# loop over the rows in seq_igs\n",
    "for n in range(0, Nigs):\n",
    "    seq = seq_igs['Scer'][n] # get the sequence of 'Scer' from the row in question (n)\n",
    "    Eigs.append(getEnergy(seq, Emat)) # calculate energy of the sequence and add to the energy values array\n",
    "    \n",
    "EvAll = [val for sublist in Eigs for val in sublist] # merge list of lists in to a one big list containing all the energy values"
   ]
  },
  {
   "cell_type": "code",
   "execution_count": 104,
   "metadata": {},
   "outputs": [
    {
     "data": {
      "text/plain": [
       "array([[<Axes: title={'center': '0'}>]], dtype=object)"
      ]
     },
     "execution_count": 104,
     "metadata": {},
     "output_type": "execute_result"
    },
    {
     "data": {
      "image/png": "[encoded data removed]",
      "text/plain": [
       "<Figure size 640x480 with 1 Axes>"
      ]
     },
     "metadata": {},
     "output_type": "display_data"
    }
   ],
   "source": [
    "pd.DataFrame(EvAll).hist(bins=100, log=True)"
   ]
  },
  {
   "cell_type": "markdown",
   "metadata": {},
   "source": [
    "#### Problem 2d: \n",
    "In fact, the histogram (2c) does not show all the possible binding sites in intergenic regions because the given sequences represent only the leading strand of DNA. To get the missing half, you can either make a second data set by reverse complementing all intergenic sequence or by reverse complementing the energy matrix (apply that to a new energy matrix by copy-pasting the code from 2c and modifying it as needed; hint: np.fliplr() and np.flipud might be useful). Make a histogram as in 2c but now for all data."
   ]
  },
  {
   "cell_type": "code",
   "execution_count": 105,
   "metadata": {},
   "outputs": [
    {
     "data": {
      "text/plain": [
       "array([[<Axes: title={'center': '0'}>]], dtype=object)"
      ]
     },
     "execution_count": 105,
     "metadata": {},
     "output_type": "execute_result"
    },
    {
     "data": {
      "image/png": "[encoded data removed]",
      "text/plain": [
       "<Figure size 640x480 with 1 Axes>"
      ]
     },
     "metadata": {},
     "output_type": "display_data"
    }
   ],
   "source": [
    "def flip(sequence):\n",
    "    flip_dict = {'A':'T', 'T':'A', 'G':'C','C':'G'}\n",
    "    flipped = list()\n",
    "    for base in sequence:\n",
    "        flipped.append(flip_dict[base])\n",
    "    return ''.join(flipped)\n",
    "\n",
    "Eigs_flips = list()\n",
    "for n in range(0, Nigs):\n",
    "    seq = flip(seq_igs['Scer'][n])\n",
    "    Eigs_flips.append(getEnergy(seq, Emat))\n",
    "EvAll_flip = [val for sublist in Eigs_flips for val in sublist]\n",
    "EvAll = EvAll + EvAll_flip\n",
    "\n",
    "pd.DataFrame(EvAll).hist(bins=100, log=True)"
   ]
  },
  {
   "cell_type": "markdown",
   "metadata": {},
   "source": [
    "#### Problem 2e: \n",
    "Make a null model by permuting randomly each intergenic sequence using the function `randomise()` (i.e., copy the code from 2d and add one line with `randomise()`, before using `getEnergy()`). Plot the counts from the null model together with the real data into a histogram. Comment on what you see. Where is selection visible?\n"
   ]
  },
  {
   "cell_type": "code",
   "execution_count": 108,
   "metadata": {},
   "outputs": [
    {
     "data": {
      "text/plain": [
       "array([[<Axes: title={'center': '0'}>]], dtype=object)"
      ]
     },
     "execution_count": 108,
     "metadata": {},
     "output_type": "execute_result"
    },
    {
     "data": {
      "image/png": "[encoded data removed]",
      "text/plain": [
       "<Figure size 640x480 with 1 Axes>"
      ]
     },
     "metadata": {},
     "output_type": "display_data"
    }
   ],
   "source": [
    "Eigs_flips = list()\n",
    "for n in range(0, Nigs):\n",
    "    seq = randomise(flip(seq_igs['Scer'][n]))\n",
    "    Eigs_flips.append(getEnergy(seq, Emat))\n",
    "    \n",
    "EvAll = [val for sublist in Eigs for val in sublist]\n",
    "EvAll_flip = [val for sublist in Eigs_flips for val in sublist]\n",
    "EvAll = EvAll + EvAll_flip\n",
    "\n",
    "pd.DataFrame(EvAll).hist(bins=100, log=True)"
   ]
  },
  {
   "cell_type": "markdown",
   "metadata": {},
   "source": [
    "## Comparing the randomized and to the actual histogram\n",
    "\n",
    "Overall the actual histogram seems quite uniform but in smaller energy values there are slightly more represaentation than the randomized data would suggest.\n",
    "\n",
    "Well okay now that I run it again, it looks really similar to the actual data. Maybe I screwed something up."
   ]
  }
 ],
 "metadata": {
  "kernelspec": {
   "display_name": "base",
   "language": "python",
   "name": "python3"
  },
  "language_info": {
   "codemirror_mode": {
    "name": "ipython",
    "version": 3
   },
   "file_extension": ".py",
   "mimetype": "text/x-python",
   "name": "python",
   "nbconvert_exporter": "python",
   "pygments_lexer": "ipython3",
   "version": "3.11.5"
  }
 },
 "nbformat": 4,
 "nbformat_minor": 4
}
