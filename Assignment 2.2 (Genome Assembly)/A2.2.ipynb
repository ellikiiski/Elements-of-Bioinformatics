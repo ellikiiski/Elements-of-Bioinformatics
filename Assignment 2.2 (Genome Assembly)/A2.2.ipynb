{
 "cells": [
  {
   "cell_type": "markdown",
   "metadata": {},
   "source": [
    "# Assignment 2.2: Genome assembly"
   ]
  },
  {
   "cell_type": "markdown",
   "metadata": {},
   "source": [
    "# Learning outcomes\n",
    "To get:\n",
    "- Familiarity with $k$-mer-based genome assembly (i.e. de Bruijn graphs)\n",
    "- A practical understanding of contig assembly based on unitigs (including the benefits of error correction)\n",
    "- A basic knowledge about evaluating assembly results\n",
    "- An understanding that non-trivial algorithms are required for great practical results (not always, but often)"
   ]
  },
  {
   "cell_type": "markdown",
   "metadata": {
    "tags": []
   },
   "source": [
    "# Contents\n",
    "### 1. Basics on de Bruijn graphs\n",
    "    1.1 Construction\n",
    "    1.2 Traversal\n",
    "    1.3 Visualization\n",
    "\n",
    "### 2. Contig assembly\n",
    "    2.1 Unitig assembly\n",
    "    2.2 Assembly of high-throughput sequencing reads\n",
    "\n",
    "### 3. Evaluating assembly results\n",
    "    3.1. Numerical statistics\n",
    "    3.2. Visual statistics\n",
    "\n",
    "### 4. Error handling\n",
    "    4.1. Validation\n",
    "    4.2. Correction\n",
    "\n",
    "---\n",
    "$^\\ast$The algorithms and datasets in this assignment assume a simplified scenario: the genome is single stranded (i.e., no reverse complements), it is small (ebola virus, 20K bases), every $k$-mer in the genome is sequenced. Moreover, reads have length 100, coverage 20x, and their error rate is 0.75%."
   ]
  },
  {
   "cell_type": "markdown",
   "metadata": {
    "tags": []
   },
   "source": [
    "<h3 style='background:yellow;padding:10px;color:black'><strong>TASK 0</strong></h3>\n",
    "\n",
    "At the end of the assignment, write here how many hours it took to complete it (approximately). Write also general feedback about the assignment. What was difficult, what was easy, what was interesting, what was not, what other tasks / topics you would have liked to have in it?"
   ]
  },
  {
   "cell_type": "markdown",
   "metadata": {},
   "source": [
    "---\n",
    "\n",
    "#### Hours used for the tasks\n",
    "I would estimate I spent about 8 hours doing these tasks. And the some more when I thought I had made a mistake but turned out that I had not.\n",
    "\n"
   ]
  },
  {
   "cell_type": "markdown",
   "metadata": {},
   "source": [
    "---\n",
    "\n",
    "#### My background\n",
    "Mathematics with a computer science minor.\n",
    "\n",
    "---"
   ]
  },
  {
   "cell_type": "markdown",
   "metadata": {},
   "source": [
    "# 1. Basics on de Bruijn graphs\n",
    "\n",
    "In this section you will develop the main functionality of a de Bruijn graph. \n",
    "\n",
    "The de Bruijn graph will be represented as a Python dictionary containing the $k$-mers of the graph. (Given the large amount of data from a sequencing experiment, state-of-the-art genome assemblers use more advanced data structures, and an optimized implementation in C++ for example.)\n",
    "\n",
    "## 1.0 A note on edge-centric / node-centric de Bruijn graphs\n",
    "\n",
    "Recall that during the lecture we added an edge between two $k$-mers if there was also a $(k+1)$-mer supporting the edge. This is called an *edge-centric* de Bruijn graph. \n",
    "\n",
    "In this assignment, for simplicity, we will work instead with *node-centric* de Bruijn graphs, where we add an edge whenever there is a suffix-prefix overlap of length $k-1$ between the two $k$-mers (i.e., the $(k+1)$-mer spelled by the edge doesn't need to be present in the reads).\n",
    "\n",
    "## 1.1. Construction\n",
    "\n",
    "We will begin with a simple example: we construct the de Bruijn graph based on all the $k$-mers in a *single* string `genome`. We also initialize a list of all DNA characters."
   ]
  },
  {
   "cell_type": "code",
   "execution_count": 2,
   "metadata": {},
   "outputs": [],
   "source": [
    "dnaBases = ['A','C','G','T']\n",
    "genome = 'ACGATCGTTC'"
   ]
  },
  {
   "cell_type": "markdown",
   "metadata": {},
   "source": [
    "The de Bruijn graph built from all $3$-mers of the above string ``genome`` will be this one: <img src='data/testDBGraph.svg'>"
   ]
  },
  {
   "cell_type": "markdown",
   "metadata": {},
   "source": [
    "Let's construct it with the function `build_dbGraph_from_string` below. We loop through the $k$-mers of the input string and add them to `dbGraph`. In this assignment, by \"adding\", we mean that we add the corresponding $k$-mer to the dictionary `dbGraph` with value 1. We'll use those values latter for describing *abundancies*."
   ]
  },
  {
   "cell_type": "code",
   "execution_count": 3,
   "metadata": {},
   "outputs": [
    {
     "name": "stdout",
     "output_type": "stream",
     "text": [
      "{'ACG': 1, 'CGA': 1, 'GAT': 1, 'ATC': 1, 'TCG': 1, 'CGT': 1, 'GTT': 1, 'TTC': 1}\n"
     ]
    }
   ],
   "source": [
    "def build_dbGraph_from_string(string, order):\n",
    "    dbGraph = dict()\n",
    "    for i in range(len(string) - (order-1)):\n",
    "        kmer = string[i:i+order]\n",
    "        dbGraph[kmer] = 1\n",
    "    return dbGraph\n",
    "\n",
    "k = 3 # This is the order of our test de Bruijn graph \n",
    "test_dbGraph = build_dbGraph_from_string(genome, k)\n",
    "\n",
    "print(test_dbGraph)"
   ]
  },
  {
   "cell_type": "markdown",
   "metadata": {},
   "source": [
    "## 1.2. Traversal\n",
    "\n",
    "We now implement a function that will give us the out-neighbors of a given node (i.e., of a given $k$-mer) in the de Bruijn graph.\n",
    "\n",
    "Consider first three helper functions on strings (and $k$-mers)."
   ]
  },
  {
   "cell_type": "code",
   "execution_count": 4,
   "metadata": {},
   "outputs": [
    {
     "name": "stdout",
     "output_type": "stream",
     "text": [
      "Next kmer for \"GAT\" and \"C\" is: ATC\n",
      "Previous kmer for \"GAT\" and \"C\" is: CGA\n",
      "The merge of \"ACGAT\" and \"ATC\" is: ACGATC\n"
     ]
    }
   ],
   "source": [
    "def nextKmer(kmer, newBase):\n",
    "    return kmer[1:] + newBase\n",
    "\n",
    "def prevKmer(kmer, newBase):\n",
    "    return newBase + kmer[:-1]\n",
    "\n",
    "def merge_strings(s, kmer):\n",
    "    return s + kmer[-1]\n",
    "\n",
    "print('Next kmer for \"GAT\" and \"C\" is:', nextKmer('GAT', 'C'))\n",
    "print('Previous kmer for \"GAT\" and \"C\" is:', prevKmer('GAT', 'C'))\n",
    "print('The merge of \"ACGAT\" and \"ATC\" is:', merge_strings('ACGAT','ATC'))"
   ]
  },
  {
   "cell_type": "markdown",
   "metadata": {},
   "source": [
    "<h3 style='background:yellow;padding:10px;color:black'><strong>TASK 1</strong></h3>\n",
    "\n",
    "Explain what the three functions above do."
   ]
  },
  {
   "cell_type": "markdown",
   "metadata": {},
   "source": [
    "---\n",
    "#### nextKmer\n",
    "\n",
    "\n",
    "Takes string parameters kmer and newBase and returns the concatenation of kmer without the first character and newBase.\n",
    "\n",
    "**Less technically**, we give the function a kmer (string of length k) and newBase (string of length 1) and return the next kmer (string length k) given the next base to come is newBase.\n",
    "\n",
    "\n",
    "#### prevKmer\n",
    "Takes string parameters kmer and newBase and returns the concatenation of newBase and kmer without the last character.\n",
    "\n",
    "**Less technically**, we give the function a kmer (string of length k) and newBase (string of length 1) and return the previous kmer (string length k) given the previous base has been newBase.\n",
    "\n",
    "\n",
    "#### merge_strings\n",
    "Takes string parameters s and kmer and returns the concatenation of s and the last character of kmer.\n",
    "\n",
    "**Less technically**, we give the function a sequence (s) and kmer and return the sequence merged with the kmer. The matching part (assumed to be k-1 last bases of s and k-1 first bases of kmer) is removed from kmer and only the last base added to s.\n",
    "\n",
    "---"
   ]
  },
  {
   "cell_type": "markdown",
   "metadata": {},
   "source": [
    "We now implement a function which, given a de Bruijn graph `graph` and a string `kmer`, returns the list of out-neighbors of `kmer`. This  works by enumerating through the list `dnaBases`, considers the function `nextKmer` applied to `kmer` over each such DNA base, and checks whether this possible next kmer is an element of the dictionary `graph`. To check if a kmer `s` is an element in the keys of the dictionary `graph`, we use `if s in graph:`."
   ]
  },
  {
   "cell_type": "code",
   "execution_count": 5,
   "metadata": {},
   "outputs": [
    {
     "name": "stdout",
     "output_type": "stream",
     "text": [
      "['CGA', 'CGT']\n"
     ]
    }
   ],
   "source": [
    "def out_neighbors(graph, kmer):\n",
    "    n = list() # The list of out-neighbors\n",
    "    for base in dnaBases:\n",
    "        nKmer = nextKmer(kmer, base)\n",
    "        if nKmer in graph:\n",
    "            n.append(nKmer)\n",
    "            \n",
    "    return n\n",
    "\n",
    "print(out_neighbors(test_dbGraph, 'ACG'))"
   ]
  },
  {
   "cell_type": "markdown",
   "metadata": {},
   "source": [
    "<h3 style='background:yellow;padding:10px;color:black'><strong>TASK 2</strong></h3>\n",
    "\n",
    "It is your job now to implement the symmetric function returning the list of in-neighbors of a given `kmer` in `test_dbGraph`. **Hint**: Use exactly the same code as in `out_neighbors` but using the function `prevKmer` instead."
   ]
  },
  {
   "cell_type": "code",
   "execution_count": 6,
   "metadata": {},
   "outputs": [
    {
     "name": "stdout",
     "output_type": "stream",
     "text": [
      "['ACG', 'TCG']\n"
     ]
    }
   ],
   "source": [
    "def in_neighbors(graph, kmer):\n",
    "    n = list() # The list of in-neighbors\n",
    "    for base in dnaBases:\n",
    "        nKmer = prevKmer(kmer, base)\n",
    "        if nKmer in graph:\n",
    "            n.append(nKmer)\n",
    "            \n",
    "    return n\n",
    "\n",
    "print(in_neighbors(test_dbGraph, 'CGA'))"
   ]
  },
  {
   "cell_type": "markdown",
   "metadata": {},
   "source": [
    "## 1.3. Visualization\n",
    "\n",
    "Having the dictionary `dbGraph` and the function `out_neighbors`, we have the basic functionality of a de Bruijn graph. As a sanity check of the implementation, we can visualize our de Bruijn graph constructed from `genome`. We do this with the **graphviz** package (using the `dot` representation). Make sure the graph you obtain is the same as the one shown above.\n"
   ]
  },
  {
   "cell_type": "code",
   "execution_count": 7,
   "metadata": {},
   "outputs": [
    {
     "data": {
      "image/svg+xml": [
       "<?xml version=\"1.0\" encoding=\"UTF-8\" standalone=\"no\"?>\n",
       "<!DOCTYPE svg PUBLIC \"-//W3C//DTD SVG 1.1//EN\"\n",
       " \"http://www.w3.org/Graphics/SVG/1.1/DTD/svg11.dtd\">\n",
       "<!-- Generated by graphviz version 2.43.0 (0)\n",
       " -->\n",
       "<!-- Title: %3 Pages: 1 -->\n",
       "<svg width=\"750pt\" height=\"109pt\"\n",
       " viewBox=\"0.00 0.00 750.06 109.12\" xmlns=\"http://www.w3.org/2000/svg\" xmlns:xlink=\"http://www.w3.org/1999/xlink\">\n",
       "<g id=\"graph0\" class=\"graph\" transform=\"scale(1 1) rotate(0) translate(4 105.12)\">\n",
       "<title>%3</title>\n",
       "<polygon fill=\"white\" stroke=\"transparent\" points=\"-4,4 -4,-105.12 746.06,-105.12 746.06,4 -4,4\"/>\n",
       "<!-- ACG -->\n",
       "<g id=\"node1\" class=\"node\">\n",
       "<title>ACG</title>\n",
       "<ellipse fill=\"none\" stroke=\"black\" cx=\"31.2\" cy=\"-41\" rx=\"31.4\" ry=\"18\"/>\n",
       "<text text-anchor=\"middle\" x=\"31.2\" y=\"-37.3\" font-family=\"Times,serif\" font-size=\"14.00\">ACG</text>\n",
       "</g>\n",
       "<!-- CGA -->\n",
       "<g id=\"node2\" class=\"node\">\n",
       "<title>CGA</title>\n",
       "<ellipse fill=\"none\" stroke=\"black\" cx=\"129.59\" cy=\"-64\" rx=\"31.4\" ry=\"18\"/>\n",
       "<text text-anchor=\"middle\" x=\"129.59\" y=\"-60.3\" font-family=\"Times,serif\" font-size=\"14.00\">CGA</text>\n",
       "</g>\n",
       "<!-- ACG&#45;&gt;CGA -->\n",
       "<g id=\"edge1\" class=\"edge\">\n",
       "<title>ACG&#45;&gt;CGA</title>\n",
       "<path fill=\"none\" stroke=\"black\" d=\"M60.34,-47.71C69.84,-49.98 80.61,-52.55 90.74,-54.97\"/>\n",
       "<polygon fill=\"black\" stroke=\"black\" points=\"90.04,-58.4 100.58,-57.32 91.67,-51.59 90.04,-58.4\"/>\n",
       "</g>\n",
       "<!-- CGT -->\n",
       "<g id=\"node3\" class=\"node\">\n",
       "<title>CGT</title>\n",
       "<ellipse fill=\"none\" stroke=\"black\" cx=\"517.32\" cy=\"-18\" rx=\"30.59\" ry=\"18\"/>\n",
       "<text text-anchor=\"middle\" x=\"517.32\" y=\"-14.3\" font-family=\"Times,serif\" font-size=\"14.00\">CGT</text>\n",
       "</g>\n",
       "<!-- ACG&#45;&gt;CGT -->\n",
       "<g id=\"edge2\" class=\"edge\">\n",
       "<title>ACG&#45;&gt;CGT</title>\n",
       "<path fill=\"none\" stroke=\"black\" d=\"M61.02,-35.43C98.82,-28.63 167.28,-18 226.34,-18 226.34,-18 226.34,-18 324.78,-18 377.06,-18 437.37,-18 476.13,-18\"/>\n",
       "<polygon fill=\"black\" stroke=\"black\" points=\"476.46,-21.5 486.46,-18 476.46,-14.5 476.46,-21.5\"/>\n",
       "</g>\n",
       "<!-- GAT -->\n",
       "<g id=\"node4\" class=\"node\">\n",
       "<title>GAT</title>\n",
       "<ellipse fill=\"none\" stroke=\"black\" cx=\"227.34\" cy=\"-64\" rx=\"30.59\" ry=\"18\"/>\n",
       "<text text-anchor=\"middle\" x=\"227.34\" y=\"-60.3\" font-family=\"Times,serif\" font-size=\"14.00\">GAT</text>\n",
       "</g>\n",
       "<!-- CGA&#45;&gt;GAT -->\n",
       "<g id=\"edge3\" class=\"edge\">\n",
       "<title>CGA&#45;&gt;GAT</title>\n",
       "<path fill=\"none\" stroke=\"black\" d=\"M160.89,-64C168.99,-64 177.87,-64 186.4,-64\"/>\n",
       "<polygon fill=\"black\" stroke=\"black\" points=\"186.57,-67.5 196.57,-64 186.57,-60.5 186.57,-67.5\"/>\n",
       "</g>\n",
       "<!-- GTT -->\n",
       "<g id=\"node7\" class=\"node\">\n",
       "<title>GTT</title>\n",
       "<ellipse fill=\"none\" stroke=\"black\" cx=\"614.41\" cy=\"-18\" rx=\"30.59\" ry=\"18\"/>\n",
       "<text text-anchor=\"middle\" x=\"614.41\" y=\"-14.3\" font-family=\"Times,serif\" font-size=\"14.00\">GTT</text>\n",
       "</g>\n",
       "<!-- CGT&#45;&gt;GTT -->\n",
       "<g id=\"edge8\" class=\"edge\">\n",
       "<title>CGT&#45;&gt;GTT</title>\n",
       "<path fill=\"none\" stroke=\"black\" d=\"M547.89,-18C556.03,-18 564.99,-18 573.61,-18\"/>\n",
       "<polygon fill=\"black\" stroke=\"black\" points=\"573.87,-21.5 583.87,-18 573.87,-14.5 573.87,-21.5\"/>\n",
       "</g>\n",
       "<!-- ATC -->\n",
       "<g id=\"node5\" class=\"node\">\n",
       "<title>ATC</title>\n",
       "<ellipse fill=\"none\" stroke=\"black\" cx=\"323.78\" cy=\"-64\" rx=\"29.8\" ry=\"18\"/>\n",
       "<text text-anchor=\"middle\" x=\"323.78\" y=\"-60.3\" font-family=\"Times,serif\" font-size=\"14.00\">ATC</text>\n",
       "</g>\n",
       "<!-- GAT&#45;&gt;ATC -->\n",
       "<g id=\"edge4\" class=\"edge\">\n",
       "<title>GAT&#45;&gt;ATC</title>\n",
       "<path fill=\"none\" stroke=\"black\" d=\"M257.96,-64C266.04,-64 274.91,-64 283.44,-64\"/>\n",
       "<polygon fill=\"black\" stroke=\"black\" points=\"283.59,-67.5 293.59,-64 283.59,-60.5 283.59,-67.5\"/>\n",
       "</g>\n",
       "<!-- TCG -->\n",
       "<g id=\"node6\" class=\"node\">\n",
       "<title>TCG</title>\n",
       "<ellipse fill=\"none\" stroke=\"black\" cx=\"420.23\" cy=\"-64\" rx=\"30.59\" ry=\"18\"/>\n",
       "<text text-anchor=\"middle\" x=\"420.23\" y=\"-60.3\" font-family=\"Times,serif\" font-size=\"14.00\">TCG</text>\n",
       "</g>\n",
       "<!-- ATC&#45;&gt;TCG -->\n",
       "<g id=\"edge5\" class=\"edge\">\n",
       "<title>ATC&#45;&gt;TCG</title>\n",
       "<path fill=\"none\" stroke=\"black\" d=\"M353.89,-64C361.9,-64 370.74,-64 379.25,-64\"/>\n",
       "<polygon fill=\"black\" stroke=\"black\" points=\"379.4,-67.5 389.4,-64 379.4,-60.5 379.4,-67.5\"/>\n",
       "</g>\n",
       "<!-- TCG&#45;&gt;CGA -->\n",
       "<g id=\"edge6\" class=\"edge\">\n",
       "<title>TCG&#45;&gt;CGA</title>\n",
       "<path fill=\"none\" stroke=\"black\" d=\"M396.86,-75.77C384.5,-81.61 368.65,-88.04 353.68,-91 285.28,-104.54 265.21,-104.42 196.79,-91 185.23,-88.73 173.13,-84.43 162.5,-79.92\"/>\n",
       "<polygon fill=\"black\" stroke=\"black\" points=\"163.75,-76.65 153.2,-75.77 160.9,-83.04 163.75,-76.65\"/>\n",
       "</g>\n",
       "<!-- TCG&#45;&gt;CGT -->\n",
       "<g id=\"edge7\" class=\"edge\">\n",
       "<title>TCG&#45;&gt;CGT</title>\n",
       "<path fill=\"none\" stroke=\"black\" d=\"M444.25,-52.86C456.19,-47.09 470.97,-39.94 484.04,-33.62\"/>\n",
       "<polygon fill=\"black\" stroke=\"black\" points=\"485.7,-36.7 493.18,-29.19 482.66,-30.4 485.7,-36.7\"/>\n",
       "</g>\n",
       "<!-- TTC -->\n",
       "<g id=\"node8\" class=\"node\">\n",
       "<title>TTC</title>\n",
       "<ellipse fill=\"none\" stroke=\"black\" cx=\"711.51\" cy=\"-41\" rx=\"30.59\" ry=\"18\"/>\n",
       "<text text-anchor=\"middle\" x=\"711.51\" y=\"-37.3\" font-family=\"Times,serif\" font-size=\"14.00\">TTC</text>\n",
       "</g>\n",
       "<!-- GTT&#45;&gt;TTC -->\n",
       "<g id=\"edge9\" class=\"edge\">\n",
       "<title>GTT&#45;&gt;TTC</title>\n",
       "<path fill=\"none\" stroke=\"black\" d=\"M642.92,-24.65C652.38,-26.94 663.14,-29.54 673.25,-31.99\"/>\n",
       "<polygon fill=\"black\" stroke=\"black\" points=\"672.52,-35.41 683.07,-34.36 674.17,-28.61 672.52,-35.41\"/>\n",
       "</g>\n",
       "<!-- TTC&#45;&gt;TCG -->\n",
       "<g id=\"edge10\" class=\"edge\">\n",
       "<title>TTC&#45;&gt;TCG</title>\n",
       "<path fill=\"none\" stroke=\"black\" d=\"M681.1,-43.34C628.74,-47.5 519.34,-56.2 460.57,-60.87\"/>\n",
       "<polygon fill=\"black\" stroke=\"black\" points=\"460.25,-57.39 450.56,-61.67 460.8,-64.36 460.25,-57.39\"/>\n",
       "</g>\n",
       "</g>\n",
       "</svg>\n"
      ],
      "text/plain": [
       "<graphviz.graphs.Digraph at 0x7a8a70dd2e90>"
      ]
     },
     "execution_count": 7,
     "metadata": {},
     "output_type": "execute_result"
    }
   ],
   "source": [
    "from graphviz import Digraph\n",
    "\n",
    "def get_dot_representation(graph):\n",
    "    dot = Digraph()\n",
    "    dot.graph_attr['rankdir'] = 'LR' # Display the graph in landscape mode\n",
    "\n",
    "    for key in graph:\n",
    "        kmer = key\n",
    "        dot.node(kmer) \n",
    "        for neighbor in out_neighbors(graph, kmer):\n",
    "            dot.edge(kmer, neighbor) \n",
    "     \n",
    "    return dot\n",
    "    \n",
    "\n",
    "dot_representation = get_dot_representation(test_dbGraph)\n",
    "dot_representation"
   ]
  },
  {
   "cell_type": "markdown",
   "metadata": {},
   "source": [
    "<h3 style='background:yellow;padding:10px;color:black'><strong>TASK 3</strong></h3>\n",
    "\n",
    "Explain how the above code works."
   ]
  },
  {
   "cell_type": "markdown",
   "metadata": {},
   "source": [
    "---\n",
    "#### get_dot_presentation\n",
    "First a dot graph with desired display mode is created using Digraph. Then the keys (kmers) in graph (given as parameter) is looped through and each key (kmer) is added to the dot graph. Then the list of out neaighbors (given by function out_neighbors) is looped through and an edge is added between the key (kmer) and each neighbor. Finally, the funtion returns this dot graph.\n",
    "\n",
    "---"
   ]
  },
  {
   "cell_type": "markdown",
   "metadata": {},
   "source": [
    "# 2. Contig assembly\n",
    "\n",
    "## 2.1. Unitig assembly\n",
    "\n",
    "Recall that in class we said that a node is the first node of some unitig if its number of in-neighbors is different from $1$ or if its number of out-neighbors is different from $1$. Also, the start of a unitig must have at least $1$ out-neighbor."
   ]
  },
  {
   "cell_type": "markdown",
   "metadata": {},
   "source": [
    "<h3 style='background:yellow;padding:10px;color:black'><strong>TASK 4</strong></h3>\n",
    "\n",
    "Implement the following function. **Hint**: Use the functions `in_neighbors` and `out_neighbors` implemented above."
   ]
  },
  {
   "cell_type": "code",
   "execution_count": 86,
   "metadata": {},
   "outputs": [],
   "source": [
    "def is_start_of_unitig(graph, kmer):\n",
    "    # Returns True if and only if kmer is the first node of some unitig in graph\n",
    "    is_start = False\n",
    "    out_n = len(out_neighbors(graph, kmer))\n",
    "    in_n = len(in_neighbors(graph, kmer))\n",
    "    if out_n != 1:\n",
    "        is_start = True\n",
    "    if in_n != 1:\n",
    "        is_start = True\n",
    "    if out_n == 0:\n",
    "        is_start = False\n",
    "    \n",
    "    return is_start"
   ]
  },
  {
   "cell_type": "markdown",
   "metadata": {},
   "source": [
    "Recall that we say that a path $U = (v_1,v_2,\\dots,v_t)$ is a *unitig* if either\n",
    "- $t = 2$, that is, $U = (v_1,v_2)$ is a single edge, or\n",
    "- $t > 2$ and for all $i \\in \\{2,\\dots,t-1\\}$, it holds that $v_i$ has only one in-neighbor (in this case, $v_{i-1}$) and only one out-neighbor (in this case, $v_{i+1}$).\n",
    "\n",
    "Given a node `firstKmer` and one of its out-neighbors, `secondKmer`, the following function traverses the path starting with the edge `(firstKmer,secondKmer)` as long as it is a unitig. While doing so, it extends the current string `unitig` by merging to it the unique out-neighbor `nextKmer`. See the image below, where the nodes of the unitig are shown in green.\n",
    "\n",
    "<img src='data/unitig-1.png'>"
   ]
  },
  {
   "cell_type": "code",
   "execution_count": 15,
   "metadata": {},
   "outputs": [],
   "source": [
    "def assemble_unitig_starting_with(graph, firstKmer, secondKmer):\n",
    "    unitig = merge_strings(firstKmer,secondKmer)\n",
    "    o_neighbors = out_neighbors(graph,secondKmer)\n",
    "    i_neighbors = in_neighbors(graph,secondKmer)\n",
    "    while len(o_neighbors) == 1 and len(i_neighbors) == 1:\n",
    "        nextKmer = o_neighbors[0]\n",
    "        unitig = merge_strings(unitig,nextKmer)\n",
    "        o_neighbors = out_neighbors(graph,nextKmer)\n",
    "        i_neighbors = in_neighbors(graph,nextKmer)\n",
    "    return unitig"
   ]
  },
  {
   "cell_type": "markdown",
   "metadata": {},
   "source": [
    "<h3 style='background:yellow;padding:10px;color:black'><strong>TASK 5</strong></h3>\n",
    "\n",
    "Explain in your own words the code above."
   ]
  },
  {
   "cell_type": "markdown",
   "metadata": {},
   "source": [
    "---\n",
    "#### assemble_unitig_starting_with\n",
    "The function takes graph, firsKmer and secondKmer as parameters. The start of the unitig is formed by merging the firstKmer and secondKmer with the merge_strings function. Out and in neighbors of secondKmer are saved in variables o_neighbors and in_neighbors. While loop is entered if the number of out and in neighbors are both 1. Variable nextKmer is defined to be the only out neighbor of secondKmer and that is merged into the unitig using the merge_strings function. Values of variables o_neighbors ans i_neighbors are updated to contain the neighbors of nextKmer. While loop starts over and again we enter if both number of out and in neighbor is equal to 1 and the process starts over. If there are more than 1 out or in neighbor (meaning the end of a unitig has been reached), the loop is exited and so far accumulated unitig returned.\n",
    "\n",
    "---"
   ]
  },
  {
   "cell_type": "markdown",
   "metadata": {},
   "source": [
    "We now have the two main ingredients of the algorithm finding all unitigs of the graph. Let's put them to work. We enumerate through all keys (i.e. $k$-mers) of the dictionary graph (`for kmer in graph:`) , for each such $k$-mer we test if it is the start of some unitig, and if so, we enumerate all its out-neighbors, and call the function `assemble_unitig_starting_with` with the $k$-mer and its out-neighbor as parameters. See the image below. \n",
    "\n",
    "<img src='data/unitig-2.png'>"
   ]
  },
  {
   "cell_type": "code",
   "execution_count": 16,
   "metadata": {},
   "outputs": [],
   "source": [
    "def assemble_unitigs(graph):\n",
    "    unitigs = list()\n",
    "\n",
    "    for kmer in graph:\n",
    "        if is_start_of_unitig(graph, kmer):\n",
    "            for neighbor in out_neighbors(graph, kmer):\n",
    "                unitig = assemble_unitig_starting_with(graph, kmer, neighbor)\n",
    "                unitigs.append(unitig)\n",
    "    \n",
    "    return unitigs"
   ]
  },
  {
   "cell_type": "markdown",
   "metadata": {},
   "source": [
    "Check that the unitigs you get for `test_dbGraph` are the correct ones, by looking at the visualization of the graph."
   ]
  },
  {
   "cell_type": "code",
   "execution_count": 17,
   "metadata": {},
   "outputs": [
    {
     "name": "stdout",
     "output_type": "stream",
     "text": [
      "['ACGA', 'ACGT', 'CGATCG', 'TCGA', 'TCGT', 'CGTTCG']\n"
     ]
    },
    {
     "data": {
      "image/svg+xml": [
       "<?xml version=\"1.0\" encoding=\"UTF-8\" standalone=\"no\"?>\n",
       "<!DOCTYPE svg PUBLIC \"-//W3C//DTD SVG 1.1//EN\"\n",
       " \"http://www.w3.org/Graphics/SVG/1.1/DTD/svg11.dtd\">\n",
       "<!-- Generated by graphviz version 2.43.0 (0)\n",
       " -->\n",
       "<!-- Title: %3 Pages: 1 -->\n",
       "<svg width=\"750pt\" height=\"109pt\"\n",
       " viewBox=\"0.00 0.00 750.06 109.12\" xmlns=\"http://www.w3.org/2000/svg\" xmlns:xlink=\"http://www.w3.org/1999/xlink\">\n",
       "<g id=\"graph0\" class=\"graph\" transform=\"scale(1 1) rotate(0) translate(4 105.12)\">\n",
       "<title>%3</title>\n",
       "<polygon fill=\"white\" stroke=\"transparent\" points=\"-4,4 -4,-105.12 746.06,-105.12 746.06,4 -4,4\"/>\n",
       "<!-- ACG -->\n",
       "<g id=\"node1\" class=\"node\">\n",
       "<title>ACG</title>\n",
       "<ellipse fill=\"none\" stroke=\"black\" cx=\"31.2\" cy=\"-41\" rx=\"31.4\" ry=\"18\"/>\n",
       "<text text-anchor=\"middle\" x=\"31.2\" y=\"-37.3\" font-family=\"Times,serif\" font-size=\"14.00\">ACG</text>\n",
       "</g>\n",
       "<!-- CGA -->\n",
       "<g id=\"node2\" class=\"node\">\n",
       "<title>CGA</title>\n",
       "<ellipse fill=\"none\" stroke=\"black\" cx=\"129.59\" cy=\"-64\" rx=\"31.4\" ry=\"18\"/>\n",
       "<text text-anchor=\"middle\" x=\"129.59\" y=\"-60.3\" font-family=\"Times,serif\" font-size=\"14.00\">CGA</text>\n",
       "</g>\n",
       "<!-- ACG&#45;&gt;CGA -->\n",
       "<g id=\"edge1\" class=\"edge\">\n",
       "<title>ACG&#45;&gt;CGA</title>\n",
       "<path fill=\"none\" stroke=\"black\" d=\"M60.34,-47.71C69.84,-49.98 80.61,-52.55 90.74,-54.97\"/>\n",
       "<polygon fill=\"black\" stroke=\"black\" points=\"90.04,-58.4 100.58,-57.32 91.67,-51.59 90.04,-58.4\"/>\n",
       "</g>\n",
       "<!-- CGT -->\n",
       "<g id=\"node3\" class=\"node\">\n",
       "<title>CGT</title>\n",
       "<ellipse fill=\"none\" stroke=\"black\" cx=\"517.32\" cy=\"-18\" rx=\"30.59\" ry=\"18\"/>\n",
       "<text text-anchor=\"middle\" x=\"517.32\" y=\"-14.3\" font-family=\"Times,serif\" font-size=\"14.00\">CGT</text>\n",
       "</g>\n",
       "<!-- ACG&#45;&gt;CGT -->\n",
       "<g id=\"edge2\" class=\"edge\">\n",
       "<title>ACG&#45;&gt;CGT</title>\n",
       "<path fill=\"none\" stroke=\"black\" d=\"M61.02,-35.43C98.82,-28.63 167.28,-18 226.34,-18 226.34,-18 226.34,-18 324.78,-18 377.06,-18 437.37,-18 476.13,-18\"/>\n",
       "<polygon fill=\"black\" stroke=\"black\" points=\"476.46,-21.5 486.46,-18 476.46,-14.5 476.46,-21.5\"/>\n",
       "</g>\n",
       "<!-- GAT -->\n",
       "<g id=\"node4\" class=\"node\">\n",
       "<title>GAT</title>\n",
       "<ellipse fill=\"none\" stroke=\"black\" cx=\"227.34\" cy=\"-64\" rx=\"30.59\" ry=\"18\"/>\n",
       "<text text-anchor=\"middle\" x=\"227.34\" y=\"-60.3\" font-family=\"Times,serif\" font-size=\"14.00\">GAT</text>\n",
       "</g>\n",
       "<!-- CGA&#45;&gt;GAT -->\n",
       "<g id=\"edge3\" class=\"edge\">\n",
       "<title>CGA&#45;&gt;GAT</title>\n",
       "<path fill=\"none\" stroke=\"black\" d=\"M160.89,-64C168.99,-64 177.87,-64 186.4,-64\"/>\n",
       "<polygon fill=\"black\" stroke=\"black\" points=\"186.57,-67.5 196.57,-64 186.57,-60.5 186.57,-67.5\"/>\n",
       "</g>\n",
       "<!-- GTT -->\n",
       "<g id=\"node7\" class=\"node\">\n",
       "<title>GTT</title>\n",
       "<ellipse fill=\"none\" stroke=\"black\" cx=\"614.41\" cy=\"-18\" rx=\"30.59\" ry=\"18\"/>\n",
       "<text text-anchor=\"middle\" x=\"614.41\" y=\"-14.3\" font-family=\"Times,serif\" font-size=\"14.00\">GTT</text>\n",
       "</g>\n",
       "<!-- CGT&#45;&gt;GTT -->\n",
       "<g id=\"edge8\" class=\"edge\">\n",
       "<title>CGT&#45;&gt;GTT</title>\n",
       "<path fill=\"none\" stroke=\"black\" d=\"M547.89,-18C556.03,-18 564.99,-18 573.61,-18\"/>\n",
       "<polygon fill=\"black\" stroke=\"black\" points=\"573.87,-21.5 583.87,-18 573.87,-14.5 573.87,-21.5\"/>\n",
       "</g>\n",
       "<!-- ATC -->\n",
       "<g id=\"node5\" class=\"node\">\n",
       "<title>ATC</title>\n",
       "<ellipse fill=\"none\" stroke=\"black\" cx=\"323.78\" cy=\"-64\" rx=\"29.8\" ry=\"18\"/>\n",
       "<text text-anchor=\"middle\" x=\"323.78\" y=\"-60.3\" font-family=\"Times,serif\" font-size=\"14.00\">ATC</text>\n",
       "</g>\n",
       "<!-- GAT&#45;&gt;ATC -->\n",
       "<g id=\"edge4\" class=\"edge\">\n",
       "<title>GAT&#45;&gt;ATC</title>\n",
       "<path fill=\"none\" stroke=\"black\" d=\"M257.96,-64C266.04,-64 274.91,-64 283.44,-64\"/>\n",
       "<polygon fill=\"black\" stroke=\"black\" points=\"283.59,-67.5 293.59,-64 283.59,-60.5 283.59,-67.5\"/>\n",
       "</g>\n",
       "<!-- TCG -->\n",
       "<g id=\"node6\" class=\"node\">\n",
       "<title>TCG</title>\n",
       "<ellipse fill=\"none\" stroke=\"black\" cx=\"420.23\" cy=\"-64\" rx=\"30.59\" ry=\"18\"/>\n",
       "<text text-anchor=\"middle\" x=\"420.23\" y=\"-60.3\" font-family=\"Times,serif\" font-size=\"14.00\">TCG</text>\n",
       "</g>\n",
       "<!-- ATC&#45;&gt;TCG -->\n",
       "<g id=\"edge5\" class=\"edge\">\n",
       "<title>ATC&#45;&gt;TCG</title>\n",
       "<path fill=\"none\" stroke=\"black\" d=\"M353.89,-64C361.9,-64 370.74,-64 379.25,-64\"/>\n",
       "<polygon fill=\"black\" stroke=\"black\" points=\"379.4,-67.5 389.4,-64 379.4,-60.5 379.4,-67.5\"/>\n",
       "</g>\n",
       "<!-- TCG&#45;&gt;CGA -->\n",
       "<g id=\"edge6\" class=\"edge\">\n",
       "<title>TCG&#45;&gt;CGA</title>\n",
       "<path fill=\"none\" stroke=\"black\" d=\"M396.86,-75.77C384.5,-81.61 368.65,-88.04 353.68,-91 285.28,-104.54 265.21,-104.42 196.79,-91 185.23,-88.73 173.13,-84.43 162.5,-79.92\"/>\n",
       "<polygon fill=\"black\" stroke=\"black\" points=\"163.75,-76.65 153.2,-75.77 160.9,-83.04 163.75,-76.65\"/>\n",
       "</g>\n",
       "<!-- TCG&#45;&gt;CGT -->\n",
       "<g id=\"edge7\" class=\"edge\">\n",
       "<title>TCG&#45;&gt;CGT</title>\n",
       "<path fill=\"none\" stroke=\"black\" d=\"M444.25,-52.86C456.19,-47.09 470.97,-39.94 484.04,-33.62\"/>\n",
       "<polygon fill=\"black\" stroke=\"black\" points=\"485.7,-36.7 493.18,-29.19 482.66,-30.4 485.7,-36.7\"/>\n",
       "</g>\n",
       "<!-- TTC -->\n",
       "<g id=\"node8\" class=\"node\">\n",
       "<title>TTC</title>\n",
       "<ellipse fill=\"none\" stroke=\"black\" cx=\"711.51\" cy=\"-41\" rx=\"30.59\" ry=\"18\"/>\n",
       "<text text-anchor=\"middle\" x=\"711.51\" y=\"-37.3\" font-family=\"Times,serif\" font-size=\"14.00\">TTC</text>\n",
       "</g>\n",
       "<!-- GTT&#45;&gt;TTC -->\n",
       "<g id=\"edge9\" class=\"edge\">\n",
       "<title>GTT&#45;&gt;TTC</title>\n",
       "<path fill=\"none\" stroke=\"black\" d=\"M642.92,-24.65C652.38,-26.94 663.14,-29.54 673.25,-31.99\"/>\n",
       "<polygon fill=\"black\" stroke=\"black\" points=\"672.52,-35.41 683.07,-34.36 674.17,-28.61 672.52,-35.41\"/>\n",
       "</g>\n",
       "<!-- TTC&#45;&gt;TCG -->\n",
       "<g id=\"edge10\" class=\"edge\">\n",
       "<title>TTC&#45;&gt;TCG</title>\n",
       "<path fill=\"none\" stroke=\"black\" d=\"M681.1,-43.34C628.74,-47.5 519.34,-56.2 460.57,-60.87\"/>\n",
       "<polygon fill=\"black\" stroke=\"black\" points=\"460.25,-57.39 450.56,-61.67 460.8,-64.36 460.25,-57.39\"/>\n",
       "</g>\n",
       "</g>\n",
       "</svg>\n"
      ],
      "text/plain": [
       "<graphviz.graphs.Digraph at 0x7a8a703e7cd0>"
      ]
     },
     "execution_count": 17,
     "metadata": {},
     "output_type": "execute_result"
    }
   ],
   "source": [
    "test_unitigs = assemble_unitigs(test_dbGraph)\n",
    "print(test_unitigs)\n",
    "dot_representation = get_dot_representation(test_dbGraph)\n",
    "dot_representation"
   ]
  },
  {
   "cell_type": "markdown",
   "metadata": {},
   "source": [
    "## 2.2. Assembly of high-throughput sequencing reads\n",
    "\n",
    "The graph `test_dbGraph` was built from a single genomic string. We now build a graph from the reads in a *FASTQ* file. First, we implement the following function that gets the reads. We remove the new line character from the end of each line (with `str.strip()`), and for convention, we convert all characters in the reads to uppper case (with `str.upper()`)."
   ]
  },
  {
   "cell_type": "code",
   "execution_count": 18,
   "metadata": {},
   "outputs": [],
   "source": [
    "def get_reads(filePath):\n",
    "    reads = list() # The list of strings that will store the reads (the DNA strings) in the FASTQ file at filePath\n",
    "    fastqFile = open(filePath, 'r') \n",
    "    fastqLines = fastqFile.readlines() \n",
    "    fastqFile.close()\n",
    "\n",
    "    for lineIndex in range(1, len(fastqLines), 4):\n",
    "        line = fastqLines[lineIndex]\n",
    "        reads.append(line.strip().upper())\n",
    "        \n",
    "    return reads"
   ]
  },
  {
   "cell_type": "markdown",
   "metadata": {},
   "source": [
    "<h3 style='background:yellow;padding:10px;color:black'><strong>TASK 6</strong></h3>\n",
    "\n",
    "Explain what is the purpose of the line `for lineIndex in range(1, len(fastqLines), 4):`."
   ]
  },
  {
   "cell_type": "markdown",
   "metadata": {},
   "source": [
    "---\n",
    "#### lineIndex in range(1, len(fastgLines), 4)\n",
    "This line creates a loop over every 4th line listed in fastqLines starting from the second line.\n",
    "\n",
    "---"
   ]
  },
  {
   "cell_type": "markdown",
   "metadata": {},
   "source": [
    "<h3 style='background:yellow;padding:10px;color:black'><strong>TASK 7</strong></h3>\n",
    "\n",
    "You now have to write a function equivalent to `build_dbGraph_from_string`, which however builds the graph from a collection of strings."
   ]
  },
  {
   "cell_type": "code",
   "execution_count": 92,
   "metadata": {},
   "outputs": [],
   "source": [
    "def build_dbGraph_from_reads(reads, order):\n",
    "    dbGraph = dict()\n",
    "    for read in reads:\n",
    "        graph_from_read = build_dbGraph_from_string(read, order)\n",
    "        dbGraph.update(graph_from_read)\n",
    "\n",
    "    return dbGraph"
   ]
  },
  {
   "cell_type": "markdown",
   "metadata": {},
   "source": [
    "With the above two functions in hand, we can build our de Bruijn graph from the reads in `reads.fastq`. For now, we will use the order `k = 15`."
   ]
  },
  {
   "cell_type": "code",
   "execution_count": 97,
   "metadata": {},
   "outputs": [
    {
     "name": "stdout",
     "output_type": "stream",
     "text": [
      "Assembled 7905 unitigs\n"
     ]
    }
   ],
   "source": [
    "k = 15\n",
    "reads = get_reads('data/reads.fastq')\n",
    "dbGraph = build_dbGraph_from_reads(reads, k)\n",
    "\n",
    "unitigs = assemble_unitigs(dbGraph)\n",
    "\n",
    "print('Assembled', len(unitigs), 'unitigs')"
   ]
  },
  {
   "cell_type": "markdown",
   "metadata": {},
   "source": [
    "# 3. Evaluating assembly results"
   ]
  },
  {
   "cell_type": "markdown",
   "metadata": {},
   "source": [
    "With our unitigs in hand, we now try to get an idea of how good are these assembly results. \n",
    "\n",
    "## 3.1. Numerical statistics\n",
    "\n",
    "<h3 style='background:yellow;padding:10px;color:black'><strong>TASK 8</strong></h3>\n",
    "\n",
    "Implement a function that prints the mean, median, minimum and maximum values of the list of unitig lengths. Print also the number of unitigs, and the total length of all unitigs. *Hint*: use the Python package **statistics**, and the Python built-in functions **min(list)**, **max(list)** and **sum(list)**."
   ]
  },
  {
   "cell_type": "code",
   "execution_count": 28,
   "metadata": {},
   "outputs": [
    {
     "name": "stdout",
     "output_type": "stream",
     "text": [
      "Mean unitig length: 22.161163820366856\n",
      "Median unitig length: 20\n",
      "Min unitig length: 16\n",
      "Max unitig length: 45\n",
      "Number of unitigs: 7905\n",
      "Total length of unitigs: 175184\n"
     ]
    }
   ],
   "source": [
    "import statistics\n",
    "\n",
    "def print_basic_statistics(unitigs):\n",
    "\n",
    "    unitig_lengths = [len(unitig) for unitig in unitigs]\n",
    "\n",
    "    mean = statistics.mean(unitig_lengths)\n",
    "    median = statistics.median(unitig_lengths)\n",
    "    minimum = min(unitig_lengths)\n",
    "    maximum = max(unitig_lengths)\n",
    "    totalLength = sum(unitig_lengths)\n",
    "    \n",
    "    print('Mean unitig length:', mean)\n",
    "    print('Median unitig length:', median)\n",
    "    print('Min unitig length:', minimum)\n",
    "    print('Max unitig length:', maximum)\n",
    "    print('Number of unitigs:', len(unitigs))\n",
    "    print('Total length of unitigs:', totalLength)\n",
    "\n",
    "print_basic_statistics(unitigs)"
   ]
  },
  {
   "cell_type": "markdown",
   "metadata": {},
   "source": [
    "Another measure of how contiguous an assembly is, is the N50 value. This is defined as the greatest unitig length $N$ such that the unitigs of length $\\geq N$ have sum of lengths at least 50% of all the lengths of all unitigs."
   ]
  },
  {
   "cell_type": "code",
   "execution_count": 38,
   "metadata": {},
   "outputs": [
    {
     "name": "stdout",
     "output_type": "stream",
     "text": [
      "N50 value: 23\n"
     ]
    }
   ],
   "source": [
    "def print_N50(unitigs):\n",
    "    sorted_unitigs = sorted(unitigs, reverse = True, key=lambda unitig: len(unitig)) # the list of unitigs is now sorted by length from large to small\n",
    "\n",
    "    totalLength = sum([len(unitig) for unitig in sorted_unitigs])\n",
    "\n",
    "    partialLength = 0\n",
    "    for unitig in sorted_unitigs:\n",
    "        partialLength += len(unitig)\n",
    "        if partialLength >= 0.5 * totalLength:\n",
    "            print('N50 value:', len(unitig))\n",
    "            return\n",
    "\n",
    "    \n",
    "print_N50(unitigs)"
   ]
  },
  {
   "cell_type": "markdown",
   "metadata": {},
   "source": [
    "<h3 style='background:yellow;padding:10px;color:black'><strong>TASK 9</strong></h3>\n",
    "\n",
    "The above definition (before the previous code cell) of the N50 measure is a bit hard to understand. Explain what N50 represents based on the above code that computes it."
   ]
  },
  {
   "cell_type": "markdown",
   "metadata": {},
   "source": [
    "---\n",
    "#### N50 measure\n",
    "What the code does is it first creates sorted list of unitigs (sorted_unitigs) in a descending order based on legth and calculates the total length of the unitigs. Then the variable partialLength is accumulated by adding the lengths of the unitigs starting from the longest and going through the sorted list from there. After every added length a comparison is made between the totalLength and accumulated parteialLength so far: if the partialLength is over half the size of the totalLegth, the length of the last added unitig is out N50 value.\n",
    "\n",
    "In other words, the unitig lengths are summed up in order from longest to shortest, until the sum exceeds 50% of the total length of all unitigs combined. The length of the last added unitig is the N50 value.\n",
    "\n",
    "---"
   ]
  },
  {
   "cell_type": "markdown",
   "metadata": {},
   "source": [
    "## 3.2. Visual statistics\n",
    "\n",
    "Finally, to get a better understanding of the contiguity of the unitigs, we do a scatter plot of their lengths as follows. \n",
    "\n",
    "<h3 style='background:yellow;padding:10px;color:black'><strong>TASK 10</strong></h3>\n",
    "\n",
    "Explain how the scatter plot below is obtained and what each dot represents."
   ]
  },
  {
   "cell_type": "markdown",
   "metadata": {},
   "source": [
    "---\n",
    "#### plot_lengths\n",
    "The plot is made by listing the unitig lengths in descending order and then plotting the values on (length, index) coordination. The plot illustrates the distribution of the lengths of the unitigs. Each point represents how long is a unitig (y value) of certain ordinal number (x value) in descending order. (This is surprisingly hard to put into words...)\n",
    "\n",
    "---"
   ]
  },
  {
   "cell_type": "code",
   "execution_count": 29,
   "metadata": {},
   "outputs": [
    {
     "data": {
      "image/png": "[encoded data removed]",
      "text/plain": [
       "<Figure size 640x480 with 1 Axes>"
      ]
     },
     "metadata": {},
     "output_type": "display_data"
    }
   ],
   "source": [
    "import matplotlib.pyplot as pyplot\n",
    "\n",
    "def plot_lengths(unitigs):\n",
    "    unitig_lengths = [len(unitig) for unitig in unitigs]\n",
    "    unitig_lengths.sort(reverse = True)\n",
    "    \n",
    "    pyplot.plot(unitig_lengths, 'o', color='black') # We plot list\n",
    "    \n",
    "plot_lengths(unitigs)"
   ]
  },
  {
   "cell_type": "markdown",
   "metadata": {},
   "source": [
    "# 4. Error handling"
   ]
  },
  {
   "cell_type": "markdown",
   "metadata": {},
   "source": [
    "**The above assembly results are quite dismal: unitigs are only slightly longer than the value of `k` used in the assembly!**\n",
    "\n",
    "On second thought, recall that the reads contain sequencing errors: these introduce erroneous $k$-mers in the graph, and thus introduce branches inside unitigs. \n",
    "\n",
    "We'll now see how to deal with these.\n",
    "\n",
    "## 4.1. Validation\n",
    "\n",
    "To convince us of this fact, suppose for the purpose of this assignment that we also have available the *true genome* from which the reads were sequenced. **This is not true in practice, since we are actually trying to figure out this genome!** However, development and evaluation of genome assemblers usually follows this pattern (since we now have many available genomes), as a validation and benckmarking step.\n",
    "\n",
    "Let's now align all unitigs to this true genome, and see how many actually align. The ones that do not thus contain $k$-mers with errors.\n",
    "\n",
    "First, we read the true genome from the FASTA file `data/genome.fasta`."
   ]
  },
  {
   "cell_type": "code",
   "execution_count": 30,
   "metadata": {},
   "outputs": [
    {
     "name": "stdout",
     "output_type": "stream",
     "text": [
      "CGGACACACAAAAAGAATGAAGGATTTTGAATCTTTATTGTGTGCGAGTAACTACGAGGAAGATTAAAGATTTTCCTCTCATTGAAATTGAAATTGAGATTCTAATCTCGACGGATCGATCCCCAATACCAACACTGAGAATTGGCCTGAAGAAGTCATCTGCTCCTTGGCAAAACCAAGAGCAGGCCCAAAGGGCCATT\n"
     ]
    }
   ],
   "source": [
    "def get_genome(filePath):\n",
    "    genome = str()\n",
    "    \n",
    "    fastaFile = open(filePath, 'r') \n",
    "    \n",
    "    fastaFile.readline() # Read header line\n",
    "    fastaLines = fastaFile.readlines()\n",
    "    fastaFile.close()\n",
    "\n",
    "    for line in fastaLines:\n",
    "        genome += line.strip().upper()\n",
    "    \n",
    "    return genome\n",
    "\n",
    "trueGenome = get_genome('data/genome.fasta')\n",
    "\n",
    "# Print the first 200 characters of trueGenome, for sanity check\n",
    "print(trueGenome[:200])"
   ]
  },
  {
   "cell_type": "markdown",
   "metadata": {},
   "source": [
    "Since we cannot call an actual read aligner in this Jupyter notebook, we will use the Python function `str.find(substring)`, which returns the position of the first occurence of ``substring`` inside ``str``, or ``-1`` if no such occurrence exists."
   ]
  },
  {
   "cell_type": "code",
   "execution_count": 36,
   "metadata": {},
   "outputs": [
    {
     "name": "stdout",
     "output_type": "stream",
     "text": [
      "Unitigs not aligning: 3604\n",
      "Proportion of unitigs not aligning: 0.4559139784946237\n"
     ]
    }
   ],
   "source": [
    "def align(genome, unitigs):\n",
    "    notFound = 0 # This will store the number of unitigs not found in genome\n",
    "\n",
    "    for unitig in unitigs:\n",
    "        pos = genome.find(unitig)\n",
    "        if pos == -1:\n",
    "            notFound += 1\n",
    "    \n",
    "    return notFound\n",
    "    \n",
    "notFound = align(trueGenome, unitigs)\n",
    "\n",
    "print('Unitigs not aligning:', notFound)\n",
    "print('Proportion of unitigs not aligning:', notFound / len(unitigs))"
   ]
  },
  {
   "cell_type": "markdown",
   "metadata": {},
   "source": [
    "**Wow, a signficant amount of unitigs do not align!** This is a strong indication that the reads contain errors, and that we must filter these out. \n",
    "\n",
    "## 4.2. Correction\n",
    "\n",
    "The main error correction idea used in the assembly field is to decide on an `abundance` threshold (which will depend on read coverage and error rate), such that any $k$-mer which appears less than `abundance` times in the reads is not added as a node in the de Bruijn graph. \n",
    "\n",
    "We will now implement this approach and will again assemble unitigs, just as before, in this new de Bruijn graph. We will then compare the unitig lengths before and after this correction step. \n",
    "\n",
    "Consider the following analogue of `build_dbGraph_from_reads`, which now takes into account also the parameter `abundance`."
   ]
  },
  {
   "cell_type": "code",
   "execution_count": 34,
   "metadata": {},
   "outputs": [
    {
     "name": "stdout",
     "output_type": "stream",
     "text": [
      "Nodes in the graph: 18883\n"
     ]
    }
   ],
   "source": [
    "# The abundance threshold we will use throughout\n",
    "a = 3\n",
    "\n",
    "def build_dbGraph_from_reads_abundance(reads, order, abundance):\n",
    "    dbGraph = dict()\n",
    "\n",
    "    count = dict()\n",
    "    for read in reads:\n",
    "        for i in range(len(read) - (order - 1)):\n",
    "            kmer = read[i:i+order]\n",
    "            count[kmer] = count.get(kmer,0) + 1 # count.get(kmer,0) returns count[kmer], if kmer is a key in count, and 0 otherwise\n",
    "    for kmer in count:\n",
    "        if count[kmer] >= abundance:\n",
    "            dbGraph[kmer] = abundance\n",
    "    \n",
    "    return dbGraph\n",
    "\n",
    "corrected_dbGraph = build_dbGraph_from_reads_abundance(reads, k, a)\n",
    "print('Nodes in the graph:', len(corrected_dbGraph))"
   ]
  },
  {
   "cell_type": "markdown",
   "metadata": {},
   "source": [
    "<h3 style='background:yellow;padding:10px;color:black'><strong>TASK 11</strong></h3>\n",
    "\n",
    "Explain how the above code works."
   ]
  },
  {
   "cell_type": "markdown",
   "metadata": {},
   "source": [
    "---\n",
    "#### build_dbGraph_from_reads_abundance\n",
    "First, two dictionaries, dbGraph and count, are intitalized. Then the readings in list reads (given as a parameter) are looped over. In the second for loop, from every reading all possible kmers of desired order (given as a parameter) are constructed, and a record of how many times each kmer has popped up is updated in dictionary count on each round. Finally, the count dictionary is looped through and only those kmers that have count at least as big as the abundance (given as a parameter) are added in the dbGraph dictionary (as keys with the abundance as value).\n",
    "\n",
    "---"
   ]
  },
  {
   "cell_type": "markdown",
   "metadata": {},
   "source": [
    "Let's now assemble the unitigs of `corrected_dbGraph` and compute the statistics about its unitigs."
   ]
  },
  {
   "cell_type": "code",
   "execution_count": 39,
   "metadata": {},
   "outputs": [
    {
     "name": "stdout",
     "output_type": "stream",
     "text": [
      "Mean unitig length: 570.6470588235294\n",
      "Median unitig length: 16.0\n",
      "Min unitig length: 16\n",
      "Max unitig length: 2904\n",
      "Number of unitigs: 34\n",
      "Total length of unitigs: 19402\n",
      "N50 value: 2518\n",
      "Unitigs not aligning: 8\n"
     ]
    },
    {
     "data": {
      "image/png": "[encoded data removed]",
      "text/plain": [
       "<Figure size 640x480 with 1 Axes>"
      ]
     },
     "metadata": {},
     "output_type": "display_data"
    }
   ],
   "source": [
    "corrected_unitigs = assemble_unitigs(corrected_dbGraph)\n",
    "\n",
    "print_basic_statistics(corrected_unitigs)\n",
    "print_N50(corrected_unitigs)\n",
    "plot_lengths(corrected_unitigs)\n",
    "print('Unitigs not aligning:', align(trueGenome, corrected_unitigs))"
   ]
  },
  {
   "cell_type": "markdown",
   "metadata": {},
   "source": [
    "**Things are now significatly different!**\n",
    "\n",
    "We managed to obtain only **34 unitigs**, and half of all their total length comes from unitigs of **length 2518 or more (N50 metric)**. Moreover, only **8** of them do not align to the true benchmark genome. \n",
    "\n",
    "**A simple correction approach makes such a big difference.**"
   ]
  },
  {
   "cell_type": "markdown",
   "metadata": {},
   "source": [
    "### Which `k` and `abundance` to choose?\n",
    "\n",
    "Finally, let's consider the tradeoff between `k` and `abundance`. The code below assembles the unitigs of the de Bruijn graph for several values of `k` and several values of `a`. For each pair `(k,a)`, it computes how many unitigs are assembled, and how many of them do not align to the true reference.\n",
    "\n",
    "<span style=\"color:red\"><strong>Run the code below and wait several seconds for it to finish!</strong></span>"
   ]
  },
  {
   "cell_type": "code",
   "execution_count": 40,
   "metadata": {},
   "outputs": [
    {
     "name": "stdout",
     "output_type": "stream",
     "text": [
      "Getting results for a:1, k:15. Please wait ...\n",
      "Getting results for a:1, k:21. Please wait ...\n",
      "Getting results for a:1, k:27. Please wait ...\n",
      "Getting results for a:1, k:39. Please wait ...\n",
      "Getting results for a:1, k:51. Please wait ...\n",
      "Getting results for a:2, k:15. Please wait ...\n",
      "Getting results for a:2, k:21. Please wait ...\n",
      "Getting results for a:2, k:27. Please wait ...\n",
      "Getting results for a:2, k:39. Please wait ...\n",
      "Getting results for a:2, k:51. Please wait ...\n",
      "Getting results for a:3, k:15. Please wait ...\n",
      "Getting results for a:3, k:21. Please wait ...\n",
      "Getting results for a:3, k:27. Please wait ...\n",
      "Getting results for a:3, k:39. Please wait ...\n",
      "Getting results for a:3, k:51. Please wait ...\n",
      "Getting results for a:4, k:15. Please wait ...\n",
      "Getting results for a:4, k:21. Please wait ...\n",
      "Getting results for a:4, k:27. Please wait ...\n",
      "Getting results for a:4, k:39. Please wait ...\n",
      "Getting results for a:4, k:51. Please wait ...\n",
      "Getting results for a:5, k:15. Please wait ...\n",
      "Getting results for a:5, k:21. Please wait ...\n",
      "Getting results for a:5, k:27. Please wait ...\n",
      "Getting results for a:5, k:39. Please wait ...\n",
      "Getting results for a:5, k:51. Please wait ...\n",
      "Getting results for a:6, k:15. Please wait ...\n",
      "Getting results for a:6, k:21. Please wait ...\n",
      "Getting results for a:6, k:27. Please wait ...\n",
      "Getting results for a:6, k:39. Please wait ...\n",
      "Getting results for a:6, k:51. Please wait ...\n",
      "\n",
      "Done, here are the results. The format of each cell is (#unitigs, #unitigs not aligning).\n",
      "\n"
     ]
    },
    {
     "data": {
      "text/html": [
       "<div>\n",
       "<style scoped>\n",
       "    .dataframe tbody tr th:only-of-type {\n",
       "        vertical-align: middle;\n",
       "    }\n",
       "\n",
       "    .dataframe tbody tr th {\n",
       "        vertical-align: top;\n",
       "    }\n",
       "\n",
       "    .dataframe thead th {\n",
       "        text-align: right;\n",
       "    }\n",
       "</style>\n",
       "<table border=\"1\" class=\"dataframe\">\n",
       "  <thead>\n",
       "    <tr style=\"text-align: right;\">\n",
       "      <th></th>\n",
       "      <th>k:15</th>\n",
       "      <th>k:21</th>\n",
       "      <th>k:27</th>\n",
       "      <th>k:39</th>\n",
       "      <th>k:51</th>\n",
       "    </tr>\n",
       "  </thead>\n",
       "  <tbody>\n",
       "    <tr>\n",
       "      <th>a:1</th>\n",
       "      <td>(7905, 3604)</td>\n",
       "      <td>(7439, 3418)</td>\n",
       "      <td>(7050, 3300)</td>\n",
       "      <td>(6462, 3229)</td>\n",
       "      <td>(5723, 3096)</td>\n",
       "    </tr>\n",
       "    <tr>\n",
       "      <th>a:2</th>\n",
       "      <td>(219, 81)</td>\n",
       "      <td>(168, 69)</td>\n",
       "      <td>(147, 63)</td>\n",
       "      <td>(115, 59)</td>\n",
       "      <td>(88, 53)</td>\n",
       "    </tr>\n",
       "    <tr>\n",
       "      <th>a:3</th>\n",
       "      <td>(34, 8)</td>\n",
       "      <td>(7, 2)</td>\n",
       "      <td>(1, 0)</td>\n",
       "      <td>(2, 0)</td>\n",
       "      <td>(21, 0)</td>\n",
       "    </tr>\n",
       "    <tr>\n",
       "      <th>a:4</th>\n",
       "      <td>(33, 8)</td>\n",
       "      <td>(7, 2)</td>\n",
       "      <td>(1, 0)</td>\n",
       "      <td>(2, 0)</td>\n",
       "      <td>(103, 0)</td>\n",
       "    </tr>\n",
       "    <tr>\n",
       "      <th>a:5</th>\n",
       "      <td>(33, 8)</td>\n",
       "      <td>(7, 2)</td>\n",
       "      <td>(2, 0)</td>\n",
       "      <td>(27, 0)</td>\n",
       "      <td>(285, 0)</td>\n",
       "    </tr>\n",
       "    <tr>\n",
       "      <th>a:6</th>\n",
       "      <td>(33, 8)</td>\n",
       "      <td>(8, 2)</td>\n",
       "      <td>(3, 0)</td>\n",
       "      <td>(111, 0)</td>\n",
       "      <td>(482, 0)</td>\n",
       "    </tr>\n",
       "  </tbody>\n",
       "</table>\n",
       "</div>"
      ],
      "text/plain": [
       "             k:15          k:21          k:27          k:39          k:51\n",
       "a:1  (7905, 3604)  (7439, 3418)  (7050, 3300)  (6462, 3229)  (5723, 3096)\n",
       "a:2     (219, 81)     (168, 69)     (147, 63)     (115, 59)      (88, 53)\n",
       "a:3       (34, 8)        (7, 2)        (1, 0)        (2, 0)       (21, 0)\n",
       "a:4       (33, 8)        (7, 2)        (1, 0)        (2, 0)      (103, 0)\n",
       "a:5       (33, 8)        (7, 2)        (2, 0)       (27, 0)      (285, 0)\n",
       "a:6       (33, 8)        (8, 2)        (3, 0)      (111, 0)      (482, 0)"
      ]
     },
     "metadata": {},
     "output_type": "display_data"
    }
   ],
   "source": [
    "import pandas\n",
    "from IPython.display import display\n",
    "\n",
    "results = list()\n",
    "abundance_values = [1,2,3,4,5,6]\n",
    "k_values = [15,21,27,39,51]\n",
    "\n",
    "for a_value in abundance_values:\n",
    "    a_results = list()\n",
    "    for k_value in k_values:\n",
    "        print(f'Getting results for a:{a_value}, k:{k_value}. Please wait ...')\n",
    "        temp_dbGraph = build_dbGraph_from_reads_abundance(reads, k_value, a_value)\n",
    "        temp_unitigs = assemble_unitigs(temp_dbGraph)\n",
    "        temp_notFound = align(trueGenome, temp_unitigs)\n",
    "        a_results.append((len(temp_unitigs),temp_notFound))\n",
    "    results.append(a_results)\n",
    "\n",
    "row_labels = [f'a:{a_value}' for a_value in abundance_values]\n",
    "col_labels = [f'k:{k_value}' for k_value in k_values]\n",
    "   \n",
    "print('\\nDone, here are the results. The format of each cell is (#unitigs, #unitigs not aligning).\\n')\n",
    "display(pandas.DataFrame(data=results, index=row_labels, columns=col_labels, dtype=None, copy=False))"
   ]
  },
  {
   "cell_type": "markdown",
   "metadata": {},
   "source": [
    "<h3 style='background:yellow;padding:10px;color:black'><strong>TASK 12</strong></h3>\n",
    "\n",
    "Explain the results of the above table. Where are the best results, where are the worse results, **why**? \n",
    "\n",
    "How would you choose the values of `k` and `a` in practice (when you don't have the true genome to guide the choice)?"
   ]
  },
  {
   "cell_type": "markdown",
   "metadata": {},
   "source": [
    "---\n",
    "#### Order and abundances testing results\n",
    "What we basically aim for, is as few unitigs as possible, given the results are also accurate, meaning the number of non-aligning unitigs is low. With that in mind, the the best possible result (1, 0) is produced by k=27 and a=3 or a=4.\n",
    "\n",
    "The worst results seem to be produced by not considering the possibility of sequencing errors, i.e. with a=1. Increaasing k does not help decreasing the number of unaligned unitigs very much and overall the influence of k is less significant in affecting the results. For a, it seems like after a certain value (here a=3) the number of unaligned unitig does not decrease anymore. In case of k, there is not such a simple effect but there seems to be a point, after which the number of unitigs starts to increase again.\n",
    "\n",
    "In practice, we only have the number of unitigs available, so we cant rely on the aligning results. In our example, it seems that the number of unalignments is at its lowest when the number of unitigs reaches its lower value as well. (Well, of course with one unitig only the number of unalignmets is zero.) With these results only, I would simply try to minimize the number of unitigs. However, I would calculate some other results, like N50, to get a bit more information out of the alignment.\n",
    "\n",
    "The code below produces similar table but with (#unitigs, N50) pairs as results. From there we can see that minumizing the number of unitigs and maximazing the N50 value would be a good approach.\n",
    "\n",
    "---"
   ]
  },
  {
   "cell_type": "code",
   "execution_count": 42,
   "metadata": {},
   "outputs": [
    {
     "name": "stdout",
     "output_type": "stream",
     "text": [
      "Getting results for a:1, k:15. Please wait ...\n",
      "Getting results for a:1, k:21. Please wait ...\n",
      "Getting results for a:1, k:27. Please wait ...\n",
      "Getting results for a:1, k:39. Please wait ...\n",
      "Getting results for a:1, k:51. Please wait ...\n",
      "Getting results for a:2, k:15. Please wait ...\n",
      "Getting results for a:2, k:21. Please wait ...\n",
      "Getting results for a:2, k:27. Please wait ...\n",
      "Getting results for a:2, k:39. Please wait ...\n",
      "Getting results for a:2, k:51. Please wait ...\n",
      "Getting results for a:3, k:15. Please wait ...\n",
      "Getting results for a:3, k:21. Please wait ...\n",
      "Getting results for a:3, k:27. Please wait ...\n",
      "Getting results for a:3, k:39. Please wait ...\n",
      "Getting results for a:3, k:51. Please wait ...\n",
      "Getting results for a:4, k:15. Please wait ...\n",
      "Getting results for a:4, k:21. Please wait ...\n",
      "Getting results for a:4, k:27. Please wait ...\n",
      "Getting results for a:4, k:39. Please wait ...\n",
      "Getting results for a:4, k:51. Please wait ...\n",
      "Getting results for a:5, k:15. Please wait ...\n",
      "Getting results for a:5, k:21. Please wait ...\n",
      "Getting results for a:5, k:27. Please wait ...\n",
      "Getting results for a:5, k:39. Please wait ...\n",
      "Getting results for a:5, k:51. Please wait ...\n",
      "Getting results for a:6, k:15. Please wait ...\n",
      "Getting results for a:6, k:21. Please wait ...\n",
      "Getting results for a:6, k:27. Please wait ...\n",
      "Getting results for a:6, k:39. Please wait ...\n",
      "Getting results for a:6, k:51. Please wait ...\n",
      "\n",
      "Done, here are the results. The format of each cell is (#unitigs, N50).\n",
      "\n"
     ]
    },
    {
     "data": {
      "text/html": [
       "<div>\n",
       "<style scoped>\n",
       "    .dataframe tbody tr th:only-of-type {\n",
       "        vertical-align: middle;\n",
       "    }\n",
       "\n",
       "    .dataframe tbody tr th {\n",
       "        vertical-align: top;\n",
       "    }\n",
       "\n",
       "    .dataframe thead th {\n",
       "        text-align: right;\n",
       "    }\n",
       "</style>\n",
       "<table border=\"1\" class=\"dataframe\">\n",
       "  <thead>\n",
       "    <tr style=\"text-align: right;\">\n",
       "      <th></th>\n",
       "      <th>k:15</th>\n",
       "      <th>k:21</th>\n",
       "      <th>k:27</th>\n",
       "      <th>k:39</th>\n",
       "      <th>k:51</th>\n",
       "    </tr>\n",
       "  </thead>\n",
       "  <tbody>\n",
       "    <tr>\n",
       "      <th>a:1</th>\n",
       "      <td>(7905, 23)</td>\n",
       "      <td>(7439, 30)</td>\n",
       "      <td>(7050, 37)</td>\n",
       "      <td>(6462, 51)</td>\n",
       "      <td>(5723, 65)</td>\n",
       "    </tr>\n",
       "    <tr>\n",
       "      <th>a:2</th>\n",
       "      <td>(219, 365)</td>\n",
       "      <td>(168, 399)</td>\n",
       "      <td>(147, 410)</td>\n",
       "      <td>(115, 470)</td>\n",
       "      <td>(88, 715)</td>\n",
       "    </tr>\n",
       "    <tr>\n",
       "      <th>a:3</th>\n",
       "      <td>(34, 2518)</td>\n",
       "      <td>(7, 10663)</td>\n",
       "      <td>(1, 18907)</td>\n",
       "      <td>(2, 9548)</td>\n",
       "      <td>(21, 1184)</td>\n",
       "    </tr>\n",
       "    <tr>\n",
       "      <th>a:4</th>\n",
       "      <td>(33, 2518)</td>\n",
       "      <td>(7, 10658)</td>\n",
       "      <td>(1, 18901)</td>\n",
       "      <td>(2, 9545)</td>\n",
       "      <td>(103, 309)</td>\n",
       "    </tr>\n",
       "    <tr>\n",
       "      <th>a:5</th>\n",
       "      <td>(33, 2518)</td>\n",
       "      <td>(7, 10653)</td>\n",
       "      <td>(2, 18890)</td>\n",
       "      <td>(27, 1550)</td>\n",
       "      <td>(285, 133)</td>\n",
       "    </tr>\n",
       "    <tr>\n",
       "      <th>a:6</th>\n",
       "      <td>(33, 2518)</td>\n",
       "      <td>(8, 10643)</td>\n",
       "      <td>(3, 11270)</td>\n",
       "      <td>(111, 356)</td>\n",
       "      <td>(482, 80)</td>\n",
       "    </tr>\n",
       "  </tbody>\n",
       "</table>\n",
       "</div>"
      ],
      "text/plain": [
       "           k:15        k:21        k:27        k:39        k:51\n",
       "a:1  (7905, 23)  (7439, 30)  (7050, 37)  (6462, 51)  (5723, 65)\n",
       "a:2  (219, 365)  (168, 399)  (147, 410)  (115, 470)   (88, 715)\n",
       "a:3  (34, 2518)  (7, 10663)  (1, 18907)   (2, 9548)  (21, 1184)\n",
       "a:4  (33, 2518)  (7, 10658)  (1, 18901)   (2, 9545)  (103, 309)\n",
       "a:5  (33, 2518)  (7, 10653)  (2, 18890)  (27, 1550)  (285, 133)\n",
       "a:6  (33, 2518)  (8, 10643)  (3, 11270)  (111, 356)   (482, 80)"
      ]
     },
     "metadata": {},
     "output_type": "display_data"
    }
   ],
   "source": [
    "import pandas\n",
    "from IPython.display import display\n",
    "\n",
    "def get_N50(unitigs):\n",
    "    sorted_unitigs = sorted(unitigs, reverse = True, key=lambda unitig: len(unitig)) # the list of unitigs is now sorted by length from large to small\n",
    "\n",
    "    totalLength = sum([len(unitig) for unitig in sorted_unitigs])\n",
    "\n",
    "    partialLength = 0\n",
    "    for unitig in sorted_unitigs:\n",
    "        partialLength += len(unitig)\n",
    "        if partialLength >= 0.5 * totalLength:\n",
    "            return len(unitig)\n",
    "\n",
    "results = list()\n",
    "abundance_values = [1,2,3,4,5,6]\n",
    "k_values = [15,21,27,39,51]\n",
    "\n",
    "for a_value in abundance_values:\n",
    "    a_results = list()\n",
    "    for k_value in k_values:\n",
    "        print(f'Getting results for a:{a_value}, k:{k_value}. Please wait ...')\n",
    "        temp_dbGraph = build_dbGraph_from_reads_abundance(reads, k_value, a_value)\n",
    "        temp_unitigs = assemble_unitigs(temp_dbGraph)\n",
    "        temp_N50 = get_N50(temp_unitigs)\n",
    "        a_results.append((len(temp_unitigs),temp_N50))\n",
    "    results.append(a_results)\n",
    "\n",
    "row_labels = [f'a:{a_value}' for a_value in abundance_values]\n",
    "col_labels = [f'k:{k_value}' for k_value in k_values]\n",
    "   \n",
    "print('\\nDone, here are the results. The format of each cell is (#unitigs, N50).\\n')\n",
    "display(pandas.DataFrame(data=results, index=row_labels, columns=col_labels, dtype=None, copy=False))"
   ]
  }
 ],
 "metadata": {
  "kernelspec": {
   "display_name": "base",
   "language": "python",
   "name": "python3"
  },
  "language_info": {
   "codemirror_mode": {
    "name": "ipython",
    "version": 3
   },
   "file_extension": ".py",
   "mimetype": "text/x-python",
   "name": "python",
   "nbconvert_exporter": "python",
   "pygments_lexer": "ipython3",
   "version": "3.11.5"
  }
 },
 "nbformat": 4,
 "nbformat_minor": 4
}
