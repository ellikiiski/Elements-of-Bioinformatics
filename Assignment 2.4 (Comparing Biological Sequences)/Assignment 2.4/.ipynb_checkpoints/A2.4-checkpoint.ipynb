{
 "cells": [
  {
   "cell_type": "markdown",
   "metadata": {},
   "source": [
    "# Assignment 2.4: Comparing Biological Sequences"
   ]
  },
  {
   "cell_type": "markdown",
   "metadata": {},
   "source": [
    "# Learning outcomes\n",
    "\n",
    "- Familiarity with comparing biological sequences under edit distance\n",
    "- Understanding Dynamic Programming algorithms\n",
    "- Familiarity with the main idea of calling variants from read alignments, and its challenges\n",
    "- An understanding that non-trivial algorithms are required for great practical results (not always, but often)"
   ]
  },
  {
   "cell_type": "markdown",
   "metadata": {},
   "source": [
    "# Contents\n",
    "### 1. Basics on Dynamic Programming\n",
    "    1.1 To store or not to store partial answers\n",
    "    1.2 Longest path in a DAG\n",
    "    1.3 OPTIONAL: Gap filling as path of given length\n",
    "\n",
    "### 2. Aligning sequences under edit distance\n",
    "    2.1 Computing the distance\n",
    "    2.2 Retrieving the optimal alignment paths\n",
    "    2.3 Edit distance computation as shortest path problem\n",
    "    2.4 From alignment paths to sequence alignments\n",
    "\n",
    "### 3. Variant calling"
   ]
  },
  {
   "cell_type": "markdown",
   "metadata": {},
   "source": [
    "<h3 style='background:yellow;padding:10px;color:black'><strong>TASK 0</strong></h3>\n",
    "\n",
    "At the end of the assignment, write here how many hours it took to complete it (approximately). Write also general feedback about the assignment. What was difficult, what was easy, what was interesting, what was not, what other tasks / topics you would have liked to have in it?"
   ]
  },
  {
   "cell_type": "markdown",
   "metadata": {},
   "source": [
    "#### Your answers here ...\n",
    "---"
   ]
  },
  {
   "cell_type": "markdown",
   "metadata": {},
   "source": [
    "---\n",
    "- What is your background? (CS/Bio)"
   ]
  },
  {
   "cell_type": "markdown",
   "metadata": {},
   "source": [
    "#### Your answers here ...\n",
    "---"
   ]
  },
  {
   "cell_type": "markdown",
   "metadata": {},
   "source": [
    "# 1. Basics on Dynamic Programming\n",
    "\n",
    "## 1.1. To store or not to store partial answers\n",
    "\n",
    "Recall that the Fibonacci numbers are a sequence of numbers, where each number $F_i$ is obtained by summing up the two previous numbers $F_{i-1}$ and $F_{i-2}$. The only exceptions are $F_0 = 0$, and $F_1 = 1$. These two values are also called *base cases* of the recurrence $F_i = F_{i-1} + F_{i-2}$.\n",
    "\n",
    "Consider the following computation of $F_N$, for `N=36`."
   ]
  },
  {
   "cell_type": "code",
   "execution_count": null,
   "metadata": {
    "tags": [
     "outputPrepend"
    ]
   },
   "outputs": [],
   "source": [
    "from time import time\n",
    "\n",
    "N = 36\n",
    "\n",
    "start_time = time()\n",
    "F = dict()\n",
    "for i in range(0,N+1):\n",
    "    if i <= 1:\n",
    "        F[i] = i\n",
    "    else:\n",
    "        F[i] = F[i-1] + F[i-2]\n",
    "\n",
    "print(F[N])\n",
    "end_time = time()\n",
    "\n",
    "print(f'Computation took {round(end_time - start_time, 2): .2f} sec')"
   ]
  },
  {
   "cell_type": "markdown",
   "metadata": {},
   "source": [
    "Consider now the following computation of $F_n$, for `n=36` (wait a few seconds for the code to finish running)."
   ]
  },
  {
   "cell_type": "code",
   "execution_count": null,
   "metadata": {},
   "outputs": [],
   "source": [
    "def F(i):\n",
    "    if i < 2: return i\n",
    "    return F(i-1) + F(i-2)\n",
    "\n",
    "start_time = time()\n",
    "print(F(N))\n",
    "end_time = time()\n",
    "\n",
    "print(f'Computation took {round(end_time - start_time, 2): .2f} sec')"
   ]
  },
  {
   "cell_type": "markdown",
   "metadata": {},
   "source": [
    "<h3 style='background:yellow;padding:10px;color:black'><strong>TASK 1</strong></h3>\n",
    "\n",
    "Explain why the two algorithms above have so different running times, even if they compute the same value, with the same recurrence."
   ]
  },
  {
   "cell_type": "markdown",
   "metadata": {},
   "source": [
    "---\n",
    "#### Your answer here ...\n",
    "---"
   ]
  },
  {
   "cell_type": "markdown",
   "metadata": {},
   "source": [
    "## 1.2 Longest path in a DAG\n",
    "\n",
    "Recall the problem of finding a longest path in a directed acyclic graph, from a node `s` to a node `t`. We already solved this problem in the previous assignment, with a reduction to a min-cost flow problem. In this section we will devise a DP algorithm for it.\n",
    "\n",
    "Let's read the same graph that we used in the previous assignment, and let's use our visualization function `graph2dot` from the previous assignment."
   ]
  },
  {
   "cell_type": "code",
   "execution_count": null,
   "metadata": {},
   "outputs": [],
   "source": [
    "import networkx as nx\n",
    "from graphviz import Digraph\n",
    "\n",
    "def graph2dot(nxDigraph, edgeLabels=None):\n",
    "    dot = Digraph()\n",
    "    dot.graph_attr['rankdir'] = 'LR' # Display the graph in landscape mode\n",
    "    dot.node_attr['shape'] = 'rectangle' # Rectangle nodes\n",
    "\n",
    "    for (u,v) in nxDigraph.edges():\n",
    "            if edgeLabels is None:\n",
    "                dot.edge(str(u), str(v)) \n",
    "            else:\n",
    "                dot.edge(str(u), str(v), label=str(nxDigraph[u][v][edgeLabels]))\n",
    "         \n",
    "    return dot\n",
    "\n",
    "fg = open(\"data/graph1.edgelist\", \"rb\")\n",
    "G = nx.read_edgelist(fg, create_using=nx.DiGraph)\n",
    "fg.close()\n",
    "\n",
    "graph_dot = graph2dot(G, edgeLabels = 'weight')\n",
    "graph_dot"
   ]
  },
  {
   "cell_type": "markdown",
   "metadata": {},
   "source": [
    "Let's denote by `L[v]` the *length* of the longest path from node `s` to node `v`. If you give it some thought, you'll realize that we can compute `L[v]` from the `L` values of the in-neighbors of `v` (i.e., of the nodes with edges in-coming to `v`). If we process the nodes of the directed acyclic graph in a topological order (i.e. so that edges go \"from left to right\"; acyclic graphs always have such an order), then such `L` values of the in-neighbors of `v` are already computed when processing `v`.\n",
    "\n",
    "The recurrence formula to compute `L[v]` is:\n",
    "$$ L[v] = \\max_{u \\in N^-(v)} weight(u,v) + L[u], $$\n",
    "where $N^-(v)$ denotes the set of in-neighbors of $v$.\n",
    "\n",
    "The following code implements this DP algorithm."
   ]
  },
  {
   "cell_type": "code",
   "execution_count": null,
   "metadata": {},
   "outputs": [],
   "source": [
    "bigNumber = 1 << 32\n",
    "\n",
    "def computeLongestPath(G, s, t):\n",
    "    L = dict()\n",
    "    bestInNeighbor = dict()\n",
    "    \n",
    "    for v in nx.topological_sort(G):\n",
    "        if v == s:\n",
    "            L[v] = 0\n",
    "        else:\n",
    "            L[v] = -bigNumber\n",
    "            for u in G.predecessors(v):\n",
    "                if L[u] != -bigNumber:\n",
    "                    longestLength = max(L[v], G[u][v]['weight'] + L[u])\n",
    "                    if longestLength > L[v]:\n",
    "                        L[v] = longestLength \n",
    "                        bestInNeighbor[v] = u\n",
    "           \n",
    "    # If no s-t path exists\n",
    "    if L[t] == -bigNumber:\n",
    "        return None, None\n",
    "    \n",
    "    # Recovering the longest path\n",
    "    reverse_path = [t]\n",
    "    while reverse_path[-1] != s:\n",
    "        reverse_path.append(bestInNeighbor[reverse_path[-1]])\n",
    "        \n",
    "    return L[t], list(reversed(reverse_path))\n",
    "\n",
    "longestLength, longestPath = computeLongestPath(G,'s','t')\n",
    "\n",
    "print(f'longestLength: {longestLength}')\n",
    "print(f'longestPath: {longestPath}')"
   ]
  },
  {
   "cell_type": "markdown",
   "metadata": {},
   "source": [
    "<h3 style='background:yellow;padding:10px;color:black'><strong>TASK 2</strong></h3>\n",
    "\n",
    "Given the pseudocode above, explain:\n",
    "- What are the *base cases* of the recurrence?\n",
    "- Why all `L[v]` values are initialized to `-bigNumber`?\n",
    "- Why the check `L[t] == -bigNumber` indicates that no path from `s` to `t` exists?\n",
    "- How is the longest path from `s` to `t` retrieved?"
   ]
  },
  {
   "cell_type": "markdown",
   "metadata": {},
   "source": [
    "---\n",
    "#### Your answers here ...\n",
    "---"
   ]
  },
  {
   "cell_type": "markdown",
   "metadata": {},
   "source": [
    "<h3 style='background:yellow;padding:10px;color:black'><strong>TASK 3</strong></h3>\n",
    "\n",
    "In the box below, copy the code from above, and modify it to compute a **shortest** (min. weight) path from `s` to `t`. Verify that that the path you obtain is indeed shortest in the example graph visualized above."
   ]
  },
  {
   "cell_type": "code",
   "execution_count": null,
   "metadata": {},
   "outputs": [],
   "source": [
    "def computeShortestPath(G,s,t):\n",
    "    # Your code here\n",
    "    \n",
    "\n",
    "shortestLength, shortestPath = computeShortestPath(G,'s','t')\n",
    "\n",
    "print(f'shortestLength: {shortestLength}')\n",
    "print(f'shortestPath: {shortestPath}')"
   ]
  },
  {
   "cell_type": "markdown",
   "metadata": {},
   "source": [
    "## 1.3 OPTIONAL: Gap filling as path of given length\n",
    "\n",
    "This section complements section **4. Gap filling** from the Genome Assembly notebook. You don't need to have solved that one, if you want to do this section. However, reading the explanations therein it will give the proper background for this section.\n",
    "\n",
    "Let's start with some helper functions taken directly from the Genome Assembly notebook."
   ]
  },
  {
   "cell_type": "code",
   "execution_count": null,
   "metadata": {},
   "outputs": [],
   "source": [
    "def merge_strings(s, kmer):\n",
    "    return s + kmer[-1]\n",
    "\n",
    "def convert_path_to_string(path, k):\n",
    "    string = str()\n",
    "    \n",
    "    for kmer in path[1:-k]:\n",
    "        string = merge_strings(string, kmer)\n",
    "        \n",
    "    return string\n",
    "\n",
    "def align(genome, unitigs):\n",
    "    notFound = 0 # This will store the number of unitigs not found in genome\n",
    "\n",
    "    for unitig in unitigs:\n",
    "        pos = genome.find(unitig)\n",
    "        if pos == -1:\n",
    "            notFound += 1\n",
    "    \n",
    "    return notFound\n",
    "\n",
    "def get_genome(filePath):\n",
    "    genome = str()\n",
    "    \n",
    "    fastaFile = open(filePath, 'r') \n",
    "    \n",
    "    fastaFile.readline() # Read header line\n",
    "    fastaLines = fastaFile.readlines()\n",
    "    fastaFile.close()\n",
    "\n",
    "    for line in fastaLines:\n",
    "        genome += line.strip().upper()\n",
    "    \n",
    "    return genome\n",
    "\n",
    "def get_scaffold(filePath):\n",
    "    string = str()\n",
    "    \n",
    "    fastaFile = open(filePath, 'r') \n",
    "    fastaFile.readline() # Read header line\n",
    "    fastaLines = fastaFile.readlines() \n",
    "    fastaFile.close()\n",
    "    \n",
    "    for line in fastaLines:\n",
    "        string += line.strip().upper()\n",
    "    \n",
    "    pos_firstN = string.find('N')\n",
    "    pos_lastN = string.rfind('N')\n",
    "    firstContig = string[:pos_firstN]\n",
    "    lastContig = string[pos_lastN + 1:]\n",
    "    gap_length = pos_lastN - pos_firstN + 1\n",
    "    \n",
    "    return firstContig, lastContig, gap_length"
   ]
  },
  {
   "cell_type": "markdown",
   "metadata": {},
   "source": [
    "We now implement the DP algorithm, which we have seen in the group work at the end of the Genome Assembly lecture, finding an `s`-`t` path of a given length. Since the de Bruijn graph has length of each edge equal to $1$, we simplify that DP algorithm. The function `computePathOfLength(G, s, t, d)` is given the directed graph `G` and computes a path from `s` to `t` of a given length `d` (i.e. since each edge has length 1 in the de Bruijn graph, `d` will also equal the number of edges of the path)."
   ]
  },
  {
   "cell_type": "code",
   "execution_count": null,
   "metadata": {},
   "outputs": [],
   "source": [
    "def computePathOfLength(G, s, t, d):\n",
    "    # Returns a path in G from node s to node t of length d\n",
    "    A = {(s,0)} # A is a set\n",
    "    for i in range(1,d+1):\n",
    "        if i % 50 == 0 or i == d: print(f'Processing length {i}...')\n",
    "        for v in G.nodes():\n",
    "            for u in G.predecessors(v):\n",
    "                if (u,i-1) in A:\n",
    "                    A.add((v,i))\n",
    "                    break\n",
    "    \n",
    "    # If no path is found\n",
    "    if (t,d) not in A:\n",
    "        return None\n",
    "    \n",
    "    # Recovering the path of length d\n",
    "    reverse_path = [(t,d)]\n",
    "    while reverse_path[-1] != (s,0):\n",
    "        v, l = reverse_path[-1]\n",
    "        for u in G.predecessors(v):\n",
    "            if (u,l-1) in A:\n",
    "                reverse_path.append((u, l-1))\n",
    "                break\n",
    "        \n",
    "    return list(reversed([v[0] for v in reverse_path]))"
   ]
  },
  {
   "cell_type": "markdown",
   "metadata": {},
   "source": [
    "<h3 style='background:yellow;padding:10px;color:black'><strong>OPTIONAL TASK</strong></h3>\n",
    "\n",
    "Explain the DP algorithm above."
   ]
  },
  {
   "cell_type": "markdown",
   "metadata": {},
   "source": [
    "---\n",
    "#### Your answers here ...\n",
    "---"
   ]
  },
  {
   "cell_type": "markdown",
   "metadata": {},
   "source": [
    "For convenience, let's consider the de Bruijn graph from the Genome Assembly notebook, which is here stored as file `data/dbGraph.edgelist`. We load this into `dbGraph`. We set `k=15`, since this was the $k$-mer value used to construct that graph.\n",
    "\n",
    "We then load the scaffold that we need to fill from `data/scaffolds.fasta`, compute the $k$-mer from which to start looking for a filling path, and the $k$-mer where this filling path should end.\n",
    "\n",
    "Finally, we compute a path in `dbGraph` from `source_kmer` to `target_kmer` of length `gap_length + k`. If we do get such a path, then we fill the scaffold with it, and check that the filled scaffold does appear in the reference genome."
   ]
  },
  {
   "cell_type": "code",
   "execution_count": null,
   "metadata": {},
   "outputs": [],
   "source": [
    "fg = open(\"data/dbGraph.edgelist\", \"rb\")\n",
    "dbGraph = nx.read_edgelist(fg, create_using=nx.DiGraph)\n",
    "fg.close()\n",
    "\n",
    "k = 15 # order ot the de Bruijn graph\n",
    "\n",
    "firstContig, lastContig, gap_length = get_scaffold('data/scaffolds.fasta')\n",
    "path_length = gap_length + k # i.e. the numbner of *edges* of the graph\n",
    "print(f'We need to fill a gap of length: {gap_length}')\n",
    "\n",
    "source_kmer = firstContig[-k:]\n",
    "target_kmer = lastContig[:k]\n",
    "print(f'Finding a path from source kmer: {source_kmer} to target kmer: {target_kmer}, of length {path_length}...')\n",
    "\n",
    "solutionPath = computePathOfLength(dbGraph, source_kmer, target_kmer, gap_length + k)\n",
    "\n",
    "if solutionPath is not None:\n",
    "    gapString = convert_path_to_string(solutionPath, k)\n",
    "    print(f'Found a path of length (number of edges): {path_length}, corresponding to a gap filling string of length {gapString}')\n",
    "    print(f'This path is: {gapString}')\n",
    "\n",
    "    # Checking that the filled scaffold indeed occurs in the genome\n",
    "    filledScaffold = firstContig + gapString + lastContig\n",
    "    trueGenome = get_genome('data/genome.fasta')\n",
    "    print(f'Filled scaffold aligns to genome: {align(filledScaffold, trueGenome) == 0}')"
   ]
  },
  {
   "cell_type": "markdown",
   "metadata": {},
   "source": [
    "# 2. Aligning sequences under edit distance\n",
    "\n",
    "In this section we will implement the dynamic programming algorithm for aligning sequences under the minimum number of edits.\n",
    "\n",
    "## 2.1 Computing the distance\n",
    "\n",
    "Let us start by just computing the distance between two strings. We will use the same two strings as in the lecture, so that you can double-check that the distance matrix and edit distance value you obtain are the right ones. \n",
    "\n",
    "We use the dynamic programming table `D`, such that `D[i][j]` gives the edit distance between `A[1...i]` and `B[1...j]`. (Since the characters of Python strings are indexed from 0, instead of 1 as in the lecture, we will apply a small trick in the code below, as you will see.) The recursive decomposition of `D[i][j]` is (make sure the math formula is properly rendered):\n",
    "\n",
    "$$D[i][j]= \\min\n",
    "\\begin{cases}\n",
    "D[i-1][j-1], & \\text{ if } B[j] = A[i]\\\\\n",
    "D[i-1][j-1] + 1, & \\text{ if } B[j] \\neq A[i]\\\\\n",
    "D[i][j-1] + 1,\\\\\n",
    "D[i-1][j] + 1.\n",
    "\\end{cases}$$\n",
    "\n",
    "The follwing code fragment performs the initializations for computing the table `D`."
   ]
  },
  {
   "cell_type": "code",
   "execution_count": null,
   "metadata": {},
   "outputs": [],
   "source": [
    "import pandas\n",
    "from IPython.display import display\n",
    "\n",
    "# Since the characters of a Python string are indexed from 0,\n",
    "# we add a dummy character * at the beginning of each string.\n",
    "# In this way, A[1] = 'T', A[2] = 'U', A[3] = 'K', ...\n",
    "A = '*TUKHOLMA'\n",
    "B = '*STOCKHOLM'\n",
    "print(A[1],A[2],A[3])\n",
    "# Notice that len(A) = 9, that is 1 (len('*')) + 8 (len('TUKHOLMA'))\n",
    "print(f'len(A) = {len(A)}')\n",
    "\n",
    "# We initialize with 0 entries a matrix of \n",
    "# len(A) rows, indexed 0..len(A)-1\n",
    "# and len(B) columns, 0..len(B)-1\n",
    "D = [[0 for j in range(len(B))] for i in range(len(A))]\n",
    "\n",
    "def initialize_distance_matrix(A, B, D):\n",
    "    # We do the initializations needed for edit distance computation\n",
    "    for i in range(len(A)):\n",
    "        D[i][0] = i\n",
    "    for j in range(len(B)):\n",
    "        D[0][j] = j\n",
    "\n",
    "def show(A,B,D):\n",
    "    # We display the matrix in a nice tabular format using Python package pandas\n",
    "    row_labels = [A[i] for i in range(len(A))]\n",
    "    col_labels = [B[j] for j in range(len(B))]\n",
    "    display(pandas.DataFrame(data=D, index=row_labels, columns=col_labels))\n",
    "        \n",
    "initialize_distance_matrix(A,B,D)\n",
    "show(A,B,D)"
   ]
  },
  {
   "cell_type": "markdown",
   "metadata": {},
   "source": [
    "<h3 style='background:yellow;padding:10px;color:black'><strong>TASK 4</strong></h3>\n",
    "\n",
    "Fill in the missing code fragment below, such that the function `compute_distance_matrix` computes the edit distance matrix `D` (using the recurrence shown above and in the lecture).\n",
    "\n",
    "Double-check that the matrix you obtain is the same as the one from the lecture."
   ]
  },
  {
   "cell_type": "code",
   "execution_count": null,
   "metadata": {},
   "outputs": [],
   "source": [
    "def compute_distance_matrix(A,B,D):\n",
    "    for i in range(1, len(A)): # for every row, i.e. position in A\n",
    "        for j in range(1, len(B)): # for every column, i.e. position in B\n",
    "            # D[i][j] = # Your code here\n",
    "            \n",
    "        \n",
    "compute_distance_matrix(A,B,D)\n",
    "show(A,B,D)"
   ]
  },
  {
   "cell_type": "markdown",
   "metadata": {},
   "source": [
    "<h3 style='background:yellow;padding:10px;color:black'><strong>TASK 5</strong></h3>\n",
    "\n",
    "Retrieve the edit distance of `A` and `B` from the table `D` and print it."
   ]
  },
  {
   "cell_type": "code",
   "execution_count": null,
   "metadata": {},
   "outputs": [],
   "source": [
    "# Your code here\n"
   ]
  },
  {
   "cell_type": "markdown",
   "metadata": {},
   "source": [
    "## 2.2 Retrieving the optimal alignment paths\n",
    "\n",
    "Once we have computed the distance matrix `D` and the edit distance, we can trace back the optimal alignments of `A` and `B`, as explained at the lecture."
   ]
  },
  {
   "cell_type": "markdown",
   "metadata": {},
   "source": [
    "<h3 style='background:yellow;padding:10px;color:black'><strong>TASK 6</strong></h3>\n",
    "\n",
    "Recall that at the lecture we traced back two paths in the matrix `D` corresponding to two optimal alignments (i.e. with the same edit distance $4$) of the two strings. The following function `traceback_all_solutions` implements that method.\n",
    "\n",
    "Explain in your own words how the function `traceback_all_solutions` below works. Are the two paths it finds the same as the two paths from the lecture?"
   ]
  },
  {
   "cell_type": "code",
   "execution_count": null,
   "metadata": {},
   "outputs": [],
   "source": [
    "def traceback_all_solutions(A, B, D, all_alignment_paths, i, j, partial_alignment_path = list()):\n",
    "    partial_alignment_path.append((i, j))\n",
    "    \n",
    "    if i == 0 and D[i][j] == 0:\n",
    "        all_alignment_paths.append(list(reversed(partial_alignment_path)))\n",
    "    else:\n",
    "        if i > 0 and D[i][j] == D[i-1][j] + 1:\n",
    "            traceback_all_solutions(A, B, D, all_alignment_paths, i-1, j, partial_alignment_path)\n",
    "\n",
    "        if j > 0 and D[i][j] == D[i][j-1] + 1:\n",
    "            traceback_all_solutions(A, B, D, all_alignment_paths, i, j-1, partial_alignment_path)\n",
    "            \n",
    "        if i > 0 and j > 0:\n",
    "            if A[i] == B[j]:\n",
    "                traceback_all_solutions(A, B, D, all_alignment_paths, i-1, j-1, partial_alignment_path)\n",
    "            elif D[i][j] == D[i-1][j-1] + 1:\n",
    "                traceback_all_solutions(A, B, D, all_alignment_paths, i-1, j-1, partial_alignment_path)\n",
    "\n",
    "        \n",
    "    \n",
    "    partial_alignment_path.pop()\n",
    "    \n",
    "    \n",
    "all_alignment_paths_D = list()\n",
    "traceback_all_solutions(A, B, D, all_alignment_paths_D, len(A)-1, len(B)-1)\n",
    "\n",
    "for alignment_path in all_alignment_paths_D:\n",
    "    print(alignment_path)"
   ]
  },
  {
   "cell_type": "markdown",
   "metadata": {},
   "source": [
    "---\n",
    "#### Your answers here ...\n",
    "---"
   ]
  },
  {
   "cell_type": "markdown",
   "metadata": {},
   "source": [
    "Let's now use the `graphviz` package to visualize the matrix `D` differently. This will allow us to also draw the alignment paths inside it. We will use the function `matrixpaths2dot` below, that works similarly as `graphpaths2dot` from the previous assignment."
   ]
  },
  {
   "cell_type": "code",
   "execution_count": null,
   "metadata": {},
   "outputs": [],
   "source": [
    "from graphviz import Digraph\n",
    "import itertools\n",
    "\n",
    "def matrixpaths2dot(A, B, D, alignment_paths):\n",
    "    colors = ['red','blue','green','purple','brown','orange','yellow']\n",
    "\n",
    "    dot = Digraph()\n",
    "    dot.node_attr['shape'] = 'rectangle' # Rectangle nodes\n",
    "    \n",
    "    # Getting the nodes in all alignment paths\n",
    "    nodes_in_alignment_paths = set(itertools.chain.from_iterable(alignment_paths))\n",
    "    \n",
    "    # Drawing the header\n",
    "    for j in range(len(B)):\n",
    "        row = Digraph('row-1')\n",
    "        row.attr(rank='same')\n",
    "        row.node(str((-1, j)), label=B[j], fillcolor='yellow', style='filled')\n",
    "        dot.subgraph(row)\n",
    "    \n",
    "    # Drawing the table\n",
    "    for i in range(len(A)): # for every row of D\n",
    "        row = Digraph(f'row{i}')\n",
    "        row.attr(rank='same')\n",
    "        row.node(str((i, -1)), label=A[i], fillcolor='yellow', style='filled')\n",
    "        for j in range(len(B)): # for every column of D\n",
    "            if (i,j) in nodes_in_alignment_paths:\n",
    "                row.node(str((i, j)), label=str(D[i][j]), fillcolor='green', style='filled')\n",
    "            else:\n",
    "                row.node(str((i, j)), label=str(D[i][j]))\n",
    "            dot.edge(str((i, j-1)), str((i, j)))\n",
    "            dot.edge(str((i-1, j)), str((i, j)))\n",
    "            if i > 0 and j > 0:\n",
    "                dot.edge(str((i-1, j-1)),str((i, j)))\n",
    "        dot.subgraph(row)\n",
    "         \n",
    "    # Drawing the alignment paths\n",
    "    for index, path in enumerate(alignment_paths):\n",
    "        pathColor = colors[index % len(colors)]\n",
    "        dot.attr('edge', color=pathColor, penwidth='2.0', weight=str(0.1))\n",
    "                    \n",
    "        for i in range(len(path)-1):\n",
    "            dot.edge(str(path[i]), str(path[i+1]))\n",
    "            \n",
    "    return dot"
   ]
  },
  {
   "cell_type": "markdown",
   "metadata": {},
   "source": [
    "Now, we can visualize the matrix, and `all_alignment_paths` that we computed above."
   ]
  },
  {
   "cell_type": "code",
   "execution_count": null,
   "metadata": {},
   "outputs": [],
   "source": [
    "G_dot = matrixpaths2dot(A, B, D, all_alignment_paths_D)\n",
    "G_dot"
   ]
  },
  {
   "cell_type": "markdown",
   "metadata": {},
   "source": [
    "<h3 style='background:yellow;padding:10px;color:black'><strong>TASK 7</strong></h3>\n",
    "\n",
    "Now it's your turn to use the functions created above for the following two strings: `ATTCGA` and `ATCAG`. Complete the code fragment below so that you:\n",
    "- Compute the distance matrix of the strings `A2` and `B2`.\n",
    "- Print their edit distance.\n",
    "- Traceback all alignment paths (corresponding to an alignment of minimum edit distance) and print their number.\n",
    "- Visualize the matrix and all alignment paths using the function `matrixpaths2dot`."
   ]
  },
  {
   "cell_type": "code",
   "execution_count": null,
   "metadata": {},
   "outputs": [],
   "source": [
    "A2 = '*ATTCGA'\n",
    "B2 = '*ATCAG'\n",
    "\n",
    "# Your code here\n"
   ]
  },
  {
   "cell_type": "markdown",
   "metadata": {},
   "source": [
    "<h3 style='background:yellow;padding:10px;color:black'><strong>TASK 8</strong></h3>\n",
    "\n",
    "Explain in your own words, intutively, why these two strings have so many optimal alignments, whereas `STOCKHOLM` and `TUKHOLMA` had only two optimal alignments, even if they have larger edit distance. \n",
    "\n",
    "<strong>Hint:</strong> For an extreme example, you might want to try the above computation also with `A2 = '*ABC'`, and `B2 = '*DEFGHIJK'`. "
   ]
  },
  {
   "cell_type": "markdown",
   "metadata": {},
   "source": [
    "---\n",
    "#### Your answer here ...\n",
    "---"
   ]
  },
  {
   "cell_type": "markdown",
   "metadata": {},
   "source": [
    "## 2.3 Edit distance computation as shortest path problem\n",
    "\n",
    "The above `graphviz` diagram visualizing the distance matrix `D` as a graph should give you an intuition that computing the edit distance between two strings can be reduced to finding an \"optimal\" path in a graph. More precisely, since we want a *smallest* edit distance, then we will want a *shortest* path; recall that you already implemented an algorithm for this problem, in `computeShortestPath(G,s,t)` above. \n",
    "\n",
    "In fact, the nodes of the graph correspond exactly to the cells `[i][j]` of the matrix `D`. The target node `t` where the path is required to end is the bottom-right cell of `D`, and the source node is the top-left cell of `D`. Let us first construct this graph, and we will later add weights to its edges."
   ]
  },
  {
   "cell_type": "code",
   "execution_count": null,
   "metadata": {},
   "outputs": [],
   "source": [
    "def reduceToGraph_incomplete(A,B):\n",
    "    G = nx.DiGraph()\n",
    "    for i in range(len(A)): # for every row of D\n",
    "        for j in range(len(B)): # for every column of D\n",
    "            G.add_node((i, j))\n",
    "            if j > 0:\n",
    "                G.add_edge((i, j-1), (i, j))\n",
    "            if i > 0:\n",
    "                G.add_edge((i-1, j), (i, j))\n",
    "            if i > 0 and j > 0:\n",
    "                G.add_edge((i-1, j-1), (i, j))\n",
    "    return G\n",
    "            \n",
    "G = reduceToGraph_incomplete(A,B)\n",
    "G_dot = graph2dot(G)\n",
    "G_dot"
   ]
  },
  {
   "cell_type": "markdown",
   "metadata": {},
   "source": [
    "To get the weights of the edges of the graph, recall the following diagram from the lecture:\n",
    "\n",
    "<img width=500 src='data/ed-rule.png'>\n",
    "\n",
    "This diagram implies the following edge weights:\n",
    "- the edge from `(i, j-1)` to `(i, j)` gets weight $1$ (cost of insertion)\n",
    "- the edge from `(i-1, j)` to `(i, j)` gets weight $1$ (cost of deletion)\n",
    "- the edge from `(i-1, j-1)` to `(i, j)` gets weight $1$, if `A[i] != B[j]` (cost of substitution), or gets weight $0$ if `A[i] == B[j]` (no cost for matching)\n",
    "\n",
    "<h3 style='background:yellow;padding:10px;color:black'><strong>TASK 9</strong></h3>\n",
    "\n",
    "Modify the above function `reduceToGraph_incomplete(A,B)` so that it also adds weights to the graph. Fill in the missing code fragments below."
   ]
  },
  {
   "cell_type": "code",
   "execution_count": null,
   "metadata": {},
   "outputs": [],
   "source": [
    "def reduceToGraph(A,B):\n",
    "    G = nx.DiGraph()\n",
    "    for i in range(len(A)): # for every row of D\n",
    "        for j in range(len(B)): # for every column of D\n",
    "            G.add_node((i, j))\n",
    "            if j > 0:\n",
    "                G.add_edge((i, j-1), (i, j), weight=1)\n",
    "            if i > 0:\n",
    "                # Your code here\n",
    "                \n",
    "            if i > 0 and j > 0:\n",
    "                # Your code here\n",
    "                \n",
    "    return G\n",
    "\n",
    "G = reduceToGraph(A,B)\n",
    "G_dot = graph2dot(G, edgeLabels='weight')\n",
    "G_dot"
   ]
  },
  {
   "cell_type": "markdown",
   "metadata": {},
   "source": [
    "Having constructed (with `reduceToGraph`) a weighted graph corresponding to each index pair `(i, j)`, we solve the shortest path problem on this graph, using your function `computeShortestPath(G, s, t)` implemented above, where `s = (0, 0)` and `t = (len(A)-1, len(B)-1)`."
   ]
  },
  {
   "cell_type": "code",
   "execution_count": null,
   "metadata": {},
   "outputs": [],
   "source": [
    "G = reduceToGraph(A,B)\n",
    "editDistance, oneShortestPath = computeShortestPath(G, (0, 0), (len(A)-1, len(B)-1))\n",
    "print(f'Edit distance of {A} and {B}: {editDistance}')\n",
    "print(oneShortestPath)"
   ]
  },
  {
   "cell_type": "markdown",
   "metadata": {},
   "source": [
    "<h3 style='background:yellow;padding:10px;color:black'><strong>TASK 10</strong></h3>\n",
    "\n",
    "- Does `oneShortestPath` equal one of the two optimal alginment paths in `D` that you obtained before?\n",
    "- This is an example of another *reduction* from one problem (computing edit distance) to another (computing a shortest path). In fact, notice that in this reduction we did not compute the values of the cells of matrix `D`, we just used their indices `(i, j)` to construct the graph, and we assigned the weight of the edges by looking only at `A` and `B`. Explain in your own words why this reduction is correct."
   ]
  },
  {
   "cell_type": "markdown",
   "metadata": {},
   "source": [
    "---\n",
    "#### Your answer here ...\n",
    "---"
   ]
  },
  {
   "cell_type": "markdown",
   "metadata": {},
   "source": [
    "## 2.4 From alignment paths to sequence alignments"
   ]
  },
  {
   "cell_type": "markdown",
   "metadata": {},
   "source": [
    "So far we got optimal alignment **paths** in the distance matrix, but not the actual optimal alignments of the two sequences. Let's address this now.\n",
    "\n",
    "Recall again this diagram from the lecture:\n",
    "\n",
    "<img width=500 src='data/ed-rule.png'>\n",
    "\n",
    "This means that if we take a \"vertical\" edge then we must **delete** `A[i]` from `A`, if we take a \"horizontal\" edge then we must **insert** `B[j]` into `A`, and if we take a \"diagonal\" edge then we must **match** or **substitute** `A[i]` with `B[j]`. \n",
    "\n",
    "<h3 style='background:yellow;padding:10px;color:black'><strong>TASK 11</strong></h3>\n",
    "\n",
    "Double-check that the code below produces the same two optimal alignments as in the lecture, and that they indeed correspond to the two optimal alignment paths. Explain in your own words how the code below works **and** why it implements what is described above."
   ]
  },
  {
   "cell_type": "code",
   "execution_count": null,
   "metadata": {},
   "outputs": [],
   "source": [
    "def getAlignment(A, B, alignmentPath):\n",
    "    alignmentMatrix = [['-' for index in range(len(alignmentPath))] for i in range(2)]\n",
    "    \n",
    "    alignmentMatrix[0][0] = A[0]\n",
    "    alignmentMatrix[1][0] = B[0]\n",
    "    \n",
    "    for index in range(1, len(alignmentPath)):\n",
    "        prev_i, prev_j = alignmentPath[index-1]\n",
    "        i, j = alignmentPath[index]\n",
    "        \n",
    "        if i > prev_i:\n",
    "            alignmentMatrix[0][index] = A[i]\n",
    "        \n",
    "        if j > prev_j:\n",
    "            alignmentMatrix[1][index] = B[j]\n",
    "\n",
    "    return alignmentMatrix\n",
    "            \n",
    "for alignment_path in all_alignment_paths_D:\n",
    "    print(f'*** Alignment path {alignment_path} corresponds to sequence alignment:')\n",
    "    alignmentMatrix = getAlignment(A, B, alignment_path)\n",
    "    display(pandas.DataFrame(data=alignmentMatrix))"
   ]
  },
  {
   "cell_type": "markdown",
   "metadata": {},
   "source": [
    "---\n",
    "#### Your answer here ...\n",
    "---"
   ]
  },
  {
   "cell_type": "markdown",
   "metadata": {},
   "source": [
    "# 3. Variant calling\n",
    "\n",
    "In the variant calling problem, we are given a reference genome, and reads sequenced from a new genome (called *donor genome*). The task is to find which mutations are present in the donor with respect to the reference. \n",
    "\n",
    "In this section we implement a very basic read aligner, and try to infer the mutations from these alignments. The main goal of this section is to give you an idea of how the donor mutations could be inferred from the read alignments (also called *read pileup*), but also of the many practical issues present already in this small example.\n",
    "\n",
    "Let's start with a variation of the function `initialize_distance_matrix(A, B, D)`."
   ]
  },
  {
   "cell_type": "code",
   "execution_count": null,
   "metadata": {},
   "outputs": [],
   "source": [
    "def initialize_distance_matrix_new(A, B, D):\n",
    "    for i in range(len(A)):\n",
    "        D[i][0] = i\n",
    "    for j in range(len(B)):\n",
    "        D[0][j] = 0 # Before we had D[0][j] = j"
   ]
  },
  {
   "cell_type": "markdown",
   "metadata": {},
   "source": [
    "Let's see how `initialize_distance_matrix_new(A, B, D)` can help us."
   ]
  },
  {
   "cell_type": "code",
   "execution_count": null,
   "metadata": {},
   "outputs": [],
   "source": [
    "A3 = '*FROGILIS'\n",
    "B3 = '*SUPERCALIFRAGILISTICEXPIALIDOCIOUS'\n",
    "D3 = [ [ 0 for j in range(len(B3))] for i in range(len(A3)) ]\n",
    "\n",
    "initialize_distance_matrix_new(A3, B3, D3) # We use the new initializing function\n",
    "compute_distance_matrix(A3, B3, D3)\n",
    "min_edit_distance_3 = min(D3[-1])\n",
    "print(f'There exists an occurrence of {A3} inside {B3} of edit distance {min_edit_distance_3}')"
   ]
  },
  {
   "cell_type": "markdown",
   "metadata": {},
   "source": [
    "To understand why the above code returns such information with only a minor change to the initialization function, let's see what this occurence is."
   ]
  },
  {
   "cell_type": "code",
   "execution_count": null,
   "metadata": {},
   "outputs": [],
   "source": [
    "alignment_paths_D3 = list()\n",
    "best_j_3 = D3[-1].index(min_edit_distance_3)\n",
    "traceback_all_solutions(A3, B3, D3, alignment_paths_D3, len(A3)-1, best_j_3)\n",
    "\n",
    "G3_dot = matrixpaths2dot(A3, B3, D3, alignment_paths_D3)\n",
    "display(G3_dot)\n",
    "\n",
    "alignmentMatrix_D3 = getAlignment(A3, B3, alignment_paths_D3[0])\n",
    "\n",
    "display(pandas.DataFrame(data=alignmentMatrix_D3))"
   ]
  },
  {
   "cell_type": "markdown",
   "metadata": {},
   "source": [
    "<h3 style='background:yellow;padding:10px;color:black'><strong>TASK 12</strong></h3>\n",
    "\n",
    "Explain how the above code works and how it manages to find the occurrence of `A3` of minimum edit distance inside `B3`.\n",
    "\n",
    "**Hint:** Remember that we use the new initialization function `initialize_distance_matrix_new`."
   ]
  },
  {
   "cell_type": "markdown",
   "metadata": {},
   "source": [
    "---\n",
    "#### Your answer here ...\n",
    "---"
   ]
  },
  {
   "cell_type": "markdown",
   "metadata": {},
   "source": [
    "Let's now assume that we have a reference genome and some donor reads. Run the code below, which aligns each read (in the same manner as above), but in addition prints **all** optimal alignments of each read inside the reference genome."
   ]
  },
  {
   "cell_type": "code",
   "execution_count": null,
   "metadata": {},
   "outputs": [],
   "source": [
    "pandas.options.display.max_columns = None\n",
    "\n",
    "referenceGenome = '*ACAAGAATACGACGATAG'\n",
    "reads = ['*ACATGAA', '*CATGAAT', '*ATGAATA', '*TGAATAC', '*GAATACA', '*AATACAC', '*ATACACG', '*TACACGA', '*ACACGAC', '*CACGACT', '*ACGACTA', '*CGACTAG']\n",
    "\n",
    "for read in reads:\n",
    "    print(f'\\n\\n--- Aligning {read}')\n",
    "    A4 = read\n",
    "    B4 = referenceGenome\n",
    "    D4 = [ [ 0 for j in range(len(B4))] for i in range(len(A4)) ]\n",
    "    initialize_distance_matrix_new(A4, B4, D4)\n",
    "    compute_distance_matrix(A4, B4, D4)\n",
    "    all_alignment_paths_D4 = list()\n",
    "\n",
    "    min_edit_distance = min(D4[-1])\n",
    "\n",
    "    for j in range(len(B4)):\n",
    "        if D4[-1][j] == min_edit_distance:\n",
    "            alignment_paths_from_j = list()\n",
    "            traceback_all_solutions(A4, B4, D4, alignment_paths_from_j, len(A4)-1, j)\n",
    "            all_alignment_paths_D4 += alignment_paths_from_j\n",
    "\n",
    "    print(f'Read {read} has {len(all_alignment_paths_D4)} optimal alignment(s) of edit distance {min_edit_distance}')\n",
    "    for alignment_path in all_alignment_paths_D4:\n",
    "        print(f'*** Alignment path {alignment_path} corresponds to sequence alignment:')\n",
    "        alignmentMatrix = getAlignment(A4, B4, alignment_path)\n",
    "        \n",
    "        # Remove * character from beggining\n",
    "        alignmentMatrix = [alignmentMatrix[0][1:], alignmentMatrix[1][1:]]\n",
    "    \n",
    "        # Add padding to show whole B4 sequence\n",
    "        for i in reversed(range(1, alignment_path[0][1]+1)):\n",
    "            alignmentMatrix[0] = [' '] + alignmentMatrix[0]\n",
    "            alignmentMatrix[1] = [B4[i]] + alignmentMatrix[1]\n",
    "        for i in range(1, len(B4)-alignment_path[-1][1]):\n",
    "            alignmentMatrix[0] = alignmentMatrix[0] + [' ']\n",
    "            alignmentMatrix[1] = alignmentMatrix[1] + [B4[alignment_path[-1][1] + i]]\n",
    "        \n",
    "        display(pandas.DataFrame(data=alignmentMatrix))"
   ]
  },
  {
   "cell_type": "markdown",
   "metadata": {},
   "source": [
    "<h3 style='background:yellow;padding:10px;color:black'><strong>TASK 13</strong></h3>\n",
    "\n",
    "From the above results, try your best to infer what mutations there are in the donor with respect to `referenceGenome`. What makes this question difficult?"
   ]
  },
  {
   "cell_type": "markdown",
   "metadata": {},
   "source": [
    "---\n",
    "#### Your answers here ...\n",
    "---"
   ]
  }
 ],
 "metadata": {
  "kernelspec": {
   "display_name": "Python 3 (ipykernel)",
   "language": "python",
   "name": "python3"
  },
  "language_info": {
   "codemirror_mode": {
    "name": "ipython",
    "version": 3
   },
   "file_extension": ".py",
   "mimetype": "text/x-python",
   "name": "python",
   "nbconvert_exporter": "python",
   "pygments_lexer": "ipython3",
   "version": "3.9.6"
  }
 },
 "nbformat": 4,
 "nbformat_minor": 4
}
